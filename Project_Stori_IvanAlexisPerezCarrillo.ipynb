{
  "nbformat": 4,
  "nbformat_minor": 0,
  "metadata": {
    "colab": {
      "name": "Project Stori-IvanAlexisPerezCarrillo.ipynb",
      "provenance": [],
      "collapsed_sections": []
    },
    "kernelspec": {
      "name": "python3",
      "display_name": "Python 3"
    },
    "language_info": {
      "name": "python"
    }
  },
  "cells": [
    {
      "cell_type": "markdown",
      "metadata": {
        "id": "aoh4yCmJd9mA"
      },
      "source": [
        "#Predictive model for Fraud"
      ]
    },
    {
      "cell_type": "markdown",
      "metadata": {
        "id": "wxZrXqhQla6x"
      },
      "source": [
        "INDEX\n",
        "* Import libraries\n",
        "* Read CSV\n",
        "* Exploratory Data Analysis\n",
        "* Find NaNs and Fill NaNs\n",
        "* 1.1 Plot an histogram of the balance amount for all the customers.\n",
        "* 1.2 Report any structure you find and any hypotheses you have about that structure.\n",
        "* 1.3 Report mean and median balance, grouped by year and month of activated_date.\n",
        "* 2.1 Report in a table the following information for customers who activated their account and made their last payment during 2020: cust_id (excluding letters), activated_date (in format YYYY-MM), last_payment_date (in format YYYY-MM-DD), cash_advance , credit_limit , and a calculated field of cash_advance as a percentage of credit_limit.\n",
        "* Predictive Model (3.1 Build a predictive model for fraud.)\n",
        "* 3.2 What explanatory variable was the most powerful predictor for fraud?\n",
        "* Conclusions"
      ]
    },
    {
      "cell_type": "markdown",
      "metadata": {
        "id": "PJNAZgcLmysC"
      },
      "source": [
        "#**Import Libraries**"
      ]
    },
    {
      "cell_type": "code",
      "metadata": {
        "id": "Vx2tQSfUCgv8"
      },
      "source": [
        "import pandas as pd\n",
        "import seaborn as sns\n",
        "import matplotlib.pyplot as plt\n",
        "from datetime import datetime, timedelta\n",
        "import numpy as np"
      ],
      "execution_count": null,
      "outputs": []
    },
    {
      "cell_type": "markdown",
      "metadata": {
        "id": "QMKLF_BRm3bQ"
      },
      "source": [
        "## Read CSV Stori Data Challenge 2021.csv\n",
        "\n",
        "Read the dataframe that previously was save on Drive"
      ]
    },
    {
      "cell_type": "code",
      "metadata": {
        "colab": {
          "base_uri": "https://localhost:8080/"
        },
        "id": "Re4I-W7TC0MM",
        "outputId": "4f938532-7763-41bc-9922-ba8367e98538"
      },
      "source": [
        "df=pd.read_csv(\"/content/drive/MyDrive/Stori Data Challenge 2021.csv\", index_col=0)\n",
        "df.shape"
      ],
      "execution_count": null,
      "outputs": [
        {
          "output_type": "execute_result",
          "data": {
            "text/plain": [
              "(8950, 21)"
            ]
          },
          "metadata": {},
          "execution_count": 76
        }
      ]
    },
    {
      "cell_type": "markdown",
      "metadata": {
        "id": "Y-RTxPnnnNvo"
      },
      "source": [
        "## EDA(Exploratory Data Analysis)\n",
        "\n",
        "Make an exploratory data analysis for know the information that contain the dataset and visualize if you need to transform the data Type or contain NaNs."
      ]
    },
    {
      "cell_type": "code",
      "metadata": {
        "colab": {
          "base_uri": "https://localhost:8080/"
        },
        "id": "RXItRYW-L-VL",
        "outputId": "925c4f30-2fa0-4155-f938-ab1e19b718e9"
      },
      "source": [
        "print(f'size of DataFrame:{df.shape}')\n",
        "print(f'----------------------------------------------------------------------')\n",
        "print(f'Information of DataFrame:{df.info()}')"
      ],
      "execution_count": null,
      "outputs": [
        {
          "output_type": "stream",
          "name": "stdout",
          "text": [
            "size of DataFrame:(8950, 21)\n",
            "----------------------------------------------------------------------\n",
            "<class 'pandas.core.frame.DataFrame'>\n",
            "Int64Index: 8950 entries, 1 to 8950\n",
            "Data columns (total 21 columns):\n",
            " #   Column                            Non-Null Count  Dtype  \n",
            "---  ------                            --------------  -----  \n",
            " 0   cust_id                           8950 non-null   object \n",
            " 1   activated_date                    8937 non-null   object \n",
            " 2   last_payment_date                 8941 non-null   object \n",
            " 3   balance                           8948 non-null   float64\n",
            " 4   balance_frequency                 8950 non-null   float64\n",
            " 5   purchases                         8950 non-null   float64\n",
            " 6   oneoff_purchases                  8950 non-null   float64\n",
            " 7   installments_purchases            8950 non-null   float64\n",
            " 8   cash_advance                      8838 non-null   float64\n",
            " 9   purchases_frequency               8950 non-null   float64\n",
            " 10  oneoff_purchases_frequency        8950 non-null   float64\n",
            " 11  purchases_installments_frequency  8950 non-null   float64\n",
            " 12  cash_advance_frequency            8950 non-null   float64\n",
            " 13  cash_advance_trx                  8950 non-null   int64  \n",
            " 14  purchases_trx                     8950 non-null   int64  \n",
            " 15  credit_limit                      8949 non-null   float64\n",
            " 16  payments                          8950 non-null   float64\n",
            " 17  minimum_payments                  8629 non-null   float64\n",
            " 18  prc_full_payment                  8950 non-null   float64\n",
            " 19  tenure                            8950 non-null   int64  \n",
            " 20  fraud                             8950 non-null   int64  \n",
            "dtypes: float64(14), int64(4), object(3)\n",
            "memory usage: 1.5+ MB\n",
            "Information of DataFrame:None\n"
          ]
        }
      ]
    },
    {
      "cell_type": "markdown",
      "metadata": {
        "id": "H8AsY2SbtaD2"
      },
      "source": [
        "I visualize that \"activated_date\" and \"last_payment_date\" have a different dataType and this need to change for DateTime"
      ]
    },
    {
      "cell_type": "markdown",
      "metadata": {
        "id": "NvuxFuzWAtK_"
      },
      "source": [
        "### Find NaNs and Fill NaNs"
      ]
    },
    {
      "cell_type": "code",
      "metadata": {
        "colab": {
          "base_uri": "https://localhost:8080/"
        },
        "id": "bAew1eUcG1WP",
        "outputId": "6414a493-7ff6-49c3-ab17-a6b8d796dc53"
      },
      "source": [
        "df.isna().sum(axis=0)"
      ],
      "execution_count": null,
      "outputs": [
        {
          "output_type": "execute_result",
          "data": {
            "text/plain": [
              "cust_id                               0\n",
              "activated_date                       13\n",
              "last_payment_date                     9\n",
              "balance                               2\n",
              "balance_frequency                     0\n",
              "purchases                             0\n",
              "oneoff_purchases                      0\n",
              "installments_purchases                0\n",
              "cash_advance                        112\n",
              "purchases_frequency                   0\n",
              "oneoff_purchases_frequency            0\n",
              "purchases_installments_frequency      0\n",
              "cash_advance_frequency                0\n",
              "cash_advance_trx                      0\n",
              "purchases_trx                         0\n",
              "credit_limit                          1\n",
              "payments                              0\n",
              "minimum_payments                    321\n",
              "prc_full_payment                      0\n",
              "tenure                                0\n",
              "fraud                                 0\n",
              "dtype: int64"
            ]
          },
          "metadata": {},
          "execution_count": 78
        }
      ]
    },
    {
      "cell_type": "code",
      "metadata": {
        "colab": {
          "base_uri": "https://localhost:8080/",
          "height": 444
        },
        "id": "h7YGYld7NZgb",
        "outputId": "ca5da7e4-553a-45dc-8c00-791dee37cd96"
      },
      "source": [
        "new_df=df.fillna(0)\n",
        "new_df"
      ],
      "execution_count": null,
      "outputs": [
        {
          "output_type": "execute_result",
          "data": {
            "text/html": [
              "<div>\n",
              "<style scoped>\n",
              "    .dataframe tbody tr th:only-of-type {\n",
              "        vertical-align: middle;\n",
              "    }\n",
              "\n",
              "    .dataframe tbody tr th {\n",
              "        vertical-align: top;\n",
              "    }\n",
              "\n",
              "    .dataframe thead th {\n",
              "        text-align: right;\n",
              "    }\n",
              "</style>\n",
              "<table border=\"1\" class=\"dataframe\">\n",
              "  <thead>\n",
              "    <tr style=\"text-align: right;\">\n",
              "      <th></th>\n",
              "      <th>cust_id</th>\n",
              "      <th>activated_date</th>\n",
              "      <th>last_payment_date</th>\n",
              "      <th>balance</th>\n",
              "      <th>balance_frequency</th>\n",
              "      <th>purchases</th>\n",
              "      <th>oneoff_purchases</th>\n",
              "      <th>installments_purchases</th>\n",
              "      <th>cash_advance</th>\n",
              "      <th>purchases_frequency</th>\n",
              "      <th>oneoff_purchases_frequency</th>\n",
              "      <th>purchases_installments_frequency</th>\n",
              "      <th>cash_advance_frequency</th>\n",
              "      <th>cash_advance_trx</th>\n",
              "      <th>purchases_trx</th>\n",
              "      <th>credit_limit</th>\n",
              "      <th>payments</th>\n",
              "      <th>minimum_payments</th>\n",
              "      <th>prc_full_payment</th>\n",
              "      <th>tenure</th>\n",
              "      <th>fraud</th>\n",
              "    </tr>\n",
              "  </thead>\n",
              "  <tbody>\n",
              "    <tr>\n",
              "      <th>1</th>\n",
              "      <td>C10001</td>\n",
              "      <td>2019-10-06</td>\n",
              "      <td>2020-09-09</td>\n",
              "      <td>40.900749</td>\n",
              "      <td>0.818182</td>\n",
              "      <td>95.40</td>\n",
              "      <td>0.00</td>\n",
              "      <td>95.40</td>\n",
              "      <td>0.000000</td>\n",
              "      <td>0.166667</td>\n",
              "      <td>0.000000</td>\n",
              "      <td>0.083333</td>\n",
              "      <td>0.000000</td>\n",
              "      <td>0</td>\n",
              "      <td>2</td>\n",
              "      <td>1000.0</td>\n",
              "      <td>201.802084</td>\n",
              "      <td>139.509787</td>\n",
              "      <td>0.000000</td>\n",
              "      <td>12</td>\n",
              "      <td>0</td>\n",
              "    </tr>\n",
              "    <tr>\n",
              "      <th>2</th>\n",
              "      <td>C10002</td>\n",
              "      <td>2019-10-06</td>\n",
              "      <td>2020-07-04</td>\n",
              "      <td>3202.467416</td>\n",
              "      <td>0.909091</td>\n",
              "      <td>0.00</td>\n",
              "      <td>0.00</td>\n",
              "      <td>0.00</td>\n",
              "      <td>6442.945483</td>\n",
              "      <td>0.000000</td>\n",
              "      <td>0.000000</td>\n",
              "      <td>0.000000</td>\n",
              "      <td>0.250000</td>\n",
              "      <td>4</td>\n",
              "      <td>0</td>\n",
              "      <td>7000.0</td>\n",
              "      <td>4103.032597</td>\n",
              "      <td>1072.340217</td>\n",
              "      <td>0.222222</td>\n",
              "      <td>12</td>\n",
              "      <td>0</td>\n",
              "    </tr>\n",
              "    <tr>\n",
              "      <th>3</th>\n",
              "      <td>C10003</td>\n",
              "      <td>2019-10-06</td>\n",
              "      <td>2020-09-17</td>\n",
              "      <td>2495.148862</td>\n",
              "      <td>1.000000</td>\n",
              "      <td>773.17</td>\n",
              "      <td>773.17</td>\n",
              "      <td>0.00</td>\n",
              "      <td>0.000000</td>\n",
              "      <td>1.000000</td>\n",
              "      <td>1.000000</td>\n",
              "      <td>0.000000</td>\n",
              "      <td>0.000000</td>\n",
              "      <td>0</td>\n",
              "      <td>12</td>\n",
              "      <td>7500.0</td>\n",
              "      <td>622.066742</td>\n",
              "      <td>627.284787</td>\n",
              "      <td>0.000000</td>\n",
              "      <td>12</td>\n",
              "      <td>0</td>\n",
              "    </tr>\n",
              "    <tr>\n",
              "      <th>4</th>\n",
              "      <td>C10004</td>\n",
              "      <td>2019-10-06</td>\n",
              "      <td>2020-08-24</td>\n",
              "      <td>1666.670542</td>\n",
              "      <td>0.636364</td>\n",
              "      <td>1499.00</td>\n",
              "      <td>1499.00</td>\n",
              "      <td>0.00</td>\n",
              "      <td>205.788017</td>\n",
              "      <td>0.083333</td>\n",
              "      <td>0.083333</td>\n",
              "      <td>0.000000</td>\n",
              "      <td>0.083333</td>\n",
              "      <td>1</td>\n",
              "      <td>1</td>\n",
              "      <td>7500.0</td>\n",
              "      <td>0.000000</td>\n",
              "      <td>0.000000</td>\n",
              "      <td>0.000000</td>\n",
              "      <td>12</td>\n",
              "      <td>0</td>\n",
              "    </tr>\n",
              "    <tr>\n",
              "      <th>5</th>\n",
              "      <td>C10005</td>\n",
              "      <td>2019-10-06</td>\n",
              "      <td>2020-10-20</td>\n",
              "      <td>817.714335</td>\n",
              "      <td>1.000000</td>\n",
              "      <td>16.00</td>\n",
              "      <td>16.00</td>\n",
              "      <td>0.00</td>\n",
              "      <td>0.000000</td>\n",
              "      <td>0.083333</td>\n",
              "      <td>0.083333</td>\n",
              "      <td>0.000000</td>\n",
              "      <td>0.000000</td>\n",
              "      <td>0</td>\n",
              "      <td>1</td>\n",
              "      <td>1200.0</td>\n",
              "      <td>678.334763</td>\n",
              "      <td>244.791237</td>\n",
              "      <td>0.000000</td>\n",
              "      <td>12</td>\n",
              "      <td>0</td>\n",
              "    </tr>\n",
              "    <tr>\n",
              "      <th>...</th>\n",
              "      <td>...</td>\n",
              "      <td>...</td>\n",
              "      <td>...</td>\n",
              "      <td>...</td>\n",
              "      <td>...</td>\n",
              "      <td>...</td>\n",
              "      <td>...</td>\n",
              "      <td>...</td>\n",
              "      <td>...</td>\n",
              "      <td>...</td>\n",
              "      <td>...</td>\n",
              "      <td>...</td>\n",
              "      <td>...</td>\n",
              "      <td>...</td>\n",
              "      <td>...</td>\n",
              "      <td>...</td>\n",
              "      <td>...</td>\n",
              "      <td>...</td>\n",
              "      <td>...</td>\n",
              "      <td>...</td>\n",
              "      <td>...</td>\n",
              "    </tr>\n",
              "    <tr>\n",
              "      <th>8946</th>\n",
              "      <td>C19186</td>\n",
              "      <td>2020-07-31</td>\n",
              "      <td>2020-11-03</td>\n",
              "      <td>28.493517</td>\n",
              "      <td>1.000000</td>\n",
              "      <td>291.12</td>\n",
              "      <td>0.00</td>\n",
              "      <td>291.12</td>\n",
              "      <td>0.000000</td>\n",
              "      <td>1.000000</td>\n",
              "      <td>0.000000</td>\n",
              "      <td>0.833333</td>\n",
              "      <td>0.000000</td>\n",
              "      <td>0</td>\n",
              "      <td>6</td>\n",
              "      <td>1000.0</td>\n",
              "      <td>325.594462</td>\n",
              "      <td>48.886365</td>\n",
              "      <td>0.500000</td>\n",
              "      <td>6</td>\n",
              "      <td>0</td>\n",
              "    </tr>\n",
              "    <tr>\n",
              "      <th>8947</th>\n",
              "      <td>C19187</td>\n",
              "      <td>2020-07-31</td>\n",
              "      <td>2020-09-06</td>\n",
              "      <td>19.183215</td>\n",
              "      <td>1.000000</td>\n",
              "      <td>300.00</td>\n",
              "      <td>0.00</td>\n",
              "      <td>300.00</td>\n",
              "      <td>0.000000</td>\n",
              "      <td>1.000000</td>\n",
              "      <td>0.000000</td>\n",
              "      <td>0.833333</td>\n",
              "      <td>0.000000</td>\n",
              "      <td>0</td>\n",
              "      <td>6</td>\n",
              "      <td>1000.0</td>\n",
              "      <td>275.861322</td>\n",
              "      <td>0.000000</td>\n",
              "      <td>0.000000</td>\n",
              "      <td>6</td>\n",
              "      <td>0</td>\n",
              "    </tr>\n",
              "    <tr>\n",
              "      <th>8948</th>\n",
              "      <td>C19188</td>\n",
              "      <td>2020-07-31</td>\n",
              "      <td>2020-06-03</td>\n",
              "      <td>23.398673</td>\n",
              "      <td>0.833333</td>\n",
              "      <td>144.40</td>\n",
              "      <td>0.00</td>\n",
              "      <td>144.40</td>\n",
              "      <td>0.000000</td>\n",
              "      <td>0.833333</td>\n",
              "      <td>0.000000</td>\n",
              "      <td>0.666667</td>\n",
              "      <td>0.000000</td>\n",
              "      <td>0</td>\n",
              "      <td>5</td>\n",
              "      <td>1000.0</td>\n",
              "      <td>81.270775</td>\n",
              "      <td>82.418369</td>\n",
              "      <td>0.250000</td>\n",
              "      <td>6</td>\n",
              "      <td>0</td>\n",
              "    </tr>\n",
              "    <tr>\n",
              "      <th>8949</th>\n",
              "      <td>C19189</td>\n",
              "      <td>2020-07-31</td>\n",
              "      <td>2020-07-19</td>\n",
              "      <td>13.457564</td>\n",
              "      <td>0.833333</td>\n",
              "      <td>0.00</td>\n",
              "      <td>0.00</td>\n",
              "      <td>0.00</td>\n",
              "      <td>36.558778</td>\n",
              "      <td>0.000000</td>\n",
              "      <td>0.000000</td>\n",
              "      <td>0.000000</td>\n",
              "      <td>0.166667</td>\n",
              "      <td>2</td>\n",
              "      <td>0</td>\n",
              "      <td>500.0</td>\n",
              "      <td>52.549959</td>\n",
              "      <td>55.755628</td>\n",
              "      <td>0.250000</td>\n",
              "      <td>6</td>\n",
              "      <td>0</td>\n",
              "    </tr>\n",
              "    <tr>\n",
              "      <th>8950</th>\n",
              "      <td>C19190</td>\n",
              "      <td>2020-07-31</td>\n",
              "      <td>2020-10-14</td>\n",
              "      <td>372.708075</td>\n",
              "      <td>0.666667</td>\n",
              "      <td>1093.25</td>\n",
              "      <td>1093.25</td>\n",
              "      <td>0.00</td>\n",
              "      <td>127.040008</td>\n",
              "      <td>0.666667</td>\n",
              "      <td>0.666667</td>\n",
              "      <td>0.000000</td>\n",
              "      <td>0.333333</td>\n",
              "      <td>2</td>\n",
              "      <td>23</td>\n",
              "      <td>1200.0</td>\n",
              "      <td>63.165404</td>\n",
              "      <td>88.288956</td>\n",
              "      <td>0.000000</td>\n",
              "      <td>6</td>\n",
              "      <td>0</td>\n",
              "    </tr>\n",
              "  </tbody>\n",
              "</table>\n",
              "<p>8950 rows × 21 columns</p>\n",
              "</div>"
            ],
            "text/plain": [
              "     cust_id activated_date last_payment_date  ...  prc_full_payment  tenure  fraud\n",
              "1     C10001     2019-10-06        2020-09-09  ...          0.000000      12      0\n",
              "2     C10002     2019-10-06        2020-07-04  ...          0.222222      12      0\n",
              "3     C10003     2019-10-06        2020-09-17  ...          0.000000      12      0\n",
              "4     C10004     2019-10-06        2020-08-24  ...          0.000000      12      0\n",
              "5     C10005     2019-10-06        2020-10-20  ...          0.000000      12      0\n",
              "...      ...            ...               ...  ...               ...     ...    ...\n",
              "8946  C19186     2020-07-31        2020-11-03  ...          0.500000       6      0\n",
              "8947  C19187     2020-07-31        2020-09-06  ...          0.000000       6      0\n",
              "8948  C19188     2020-07-31        2020-06-03  ...          0.250000       6      0\n",
              "8949  C19189     2020-07-31        2020-07-19  ...          0.250000       6      0\n",
              "8950  C19190     2020-07-31        2020-10-14  ...          0.000000       6      0\n",
              "\n",
              "[8950 rows x 21 columns]"
            ]
          },
          "metadata": {},
          "execution_count": 79
        }
      ]
    },
    {
      "cell_type": "markdown",
      "metadata": {
        "id": "JBPDjylduIRK"
      },
      "source": [
        "Now the Dataset have 0 NaN\n"
      ]
    },
    {
      "cell_type": "code",
      "metadata": {
        "colab": {
          "base_uri": "https://localhost:8080/"
        },
        "id": "DMOLxymNZEoH",
        "outputId": "028a2b5e-2cb6-4c47-f302-fa370663420d"
      },
      "source": [
        "new_df.isna().sum(axis=0)"
      ],
      "execution_count": null,
      "outputs": [
        {
          "output_type": "execute_result",
          "data": {
            "text/plain": [
              "cust_id                             0\n",
              "activated_date                      0\n",
              "last_payment_date                   0\n",
              "balance                             0\n",
              "balance_frequency                   0\n",
              "purchases                           0\n",
              "oneoff_purchases                    0\n",
              "installments_purchases              0\n",
              "cash_advance                        0\n",
              "purchases_frequency                 0\n",
              "oneoff_purchases_frequency          0\n",
              "purchases_installments_frequency    0\n",
              "cash_advance_frequency              0\n",
              "cash_advance_trx                    0\n",
              "purchases_trx                       0\n",
              "credit_limit                        0\n",
              "payments                            0\n",
              "minimum_payments                    0\n",
              "prc_full_payment                    0\n",
              "tenure                              0\n",
              "fraud                               0\n",
              "dtype: int64"
            ]
          },
          "metadata": {},
          "execution_count": 80
        }
      ]
    },
    {
      "cell_type": "markdown",
      "metadata": {
        "id": "3BEJ8arrVVHO"
      },
      "source": [
        "### **1.1 Plot an histogram of the balance amount for all the customers.**"
      ]
    },
    {
      "cell_type": "markdown",
      "metadata": {
        "id": "rDe-iZZiuzKG"
      },
      "source": [
        "Using the clean Dataset now I going to make a histogram for show the distribution"
      ]
    },
    {
      "cell_type": "code",
      "metadata": {
        "colab": {
          "base_uri": "https://localhost:8080/",
          "height": 427
        },
        "id": "G01tf2OpZUtO",
        "outputId": "a1aea596-2ea3-48c9-f1e5-b0906d31a109"
      },
      "source": [
        "sns.set(style=\"white\")\n",
        "plt.figure(figsize=(12,5))\n",
        "sns.distplot(new_df[\"balance\"], kde=False, norm_hist=False,color='#F2AB6D')\n",
        "#pyplot.title('Histogram of balance distribution')\n",
        "plt.title('distribucion de clientes')\n"
      ],
      "execution_count": null,
      "outputs": [
        {
          "output_type": "stream",
          "name": "stderr",
          "text": [
            "/usr/local/lib/python3.7/dist-packages/seaborn/distributions.py:2619: FutureWarning: `distplot` is a deprecated function and will be removed in a future version. Please adapt your code to use either `displot` (a figure-level function with similar flexibility) or `histplot` (an axes-level function for histograms).\n",
            "  warnings.warn(msg, FutureWarning)\n"
          ]
        },
        {
          "output_type": "execute_result",
          "data": {
            "text/plain": [
              "Text(0.5, 1.0, 'distribucion de clientes')"
            ]
          },
          "metadata": {},
          "execution_count": 81
        },
        {
          "output_type": "display_data",
          "data": {
            "image/png": "[encoded data removed]",
            "text/plain": [
              "<Figure size 864x360 with 1 Axes>"
            ]
          },
          "metadata": {}
        }
      ]
    },
    {
      "cell_type": "markdown",
      "metadata": {
        "id": "ffi7ZnYaXkZf"
      },
      "source": [
        "### **1.2 Report any structure you find and any hypotheses you have about that structure.**"
      ]
    },
    {
      "cell_type": "markdown",
      "metadata": {
        "id": "vxeLHZ1sO52G"
      },
      "source": [
        "The majority of customers have a very low balance amount and there are a lot of outliers customers but this doesn't mean that there are a mistake or fraud"
      ]
    },
    {
      "cell_type": "markdown",
      "metadata": {
        "id": "oByUsVlNOyW1"
      },
      "source": [
        "BOXPLOTS for show the outliers clients only for get a better view of the distribution of customers, I could clean the outliers for get better results with mean and median results but this isn't the objective of the analysis"
      ]
    },
    {
      "cell_type": "code",
      "metadata": {
        "colab": {
          "base_uri": "https://localhost:8080/",
          "height": 356
        },
        "id": "YbvoLxTJOmgQ",
        "outputId": "3224ef0c-bee9-4cfc-a661-954a2cc2a061"
      },
      "source": [
        "plt.figure(figsize=(12,5))\n",
        "sns.boxplot(x=df[\"balance\"])\n",
        "plt.axvline(df[\"balance\"].mean(),c=\"y\")"
      ],
      "execution_count": null,
      "outputs": [
        {
          "output_type": "execute_result",
          "data": {
            "text/plain": [
              "<matplotlib.lines.Line2D at 0x7f32703fad50>"
            ]
          },
          "metadata": {},
          "execution_count": 82
        },
        {
          "output_type": "display_data",
          "data": {
            "image/png": "[encoded data removed]",
            "text/plain": [
              "<Figure size 864x360 with 1 Axes>"
            ]
          },
          "metadata": {}
        }
      ]
    },
    {
      "cell_type": "markdown",
      "metadata": {
        "id": "K5D_40-rYY8A"
      },
      "source": [
        "Modify the dataType of the columns activated_date and last_payment_date from the dataset"
      ]
    },
    {
      "cell_type": "code",
      "metadata": {
        "colab": {
          "base_uri": "https://localhost:8080/"
        },
        "id": "B0d8KZQzil1m",
        "outputId": "8c96735e-8d6a-4e13-8f48-0987f7430c9a"
      },
      "source": [
        "new_df[\"activated_date\"]=pd.to_datetime(new_df[\"activated_date\"],format=\"%Y/%m/%d\")\n",
        "new_df[\"last_payment_date\"]=pd.to_datetime(new_df[\"last_payment_date\"],format=\"%Y/%m/%d\")\n",
        "new_df.info()"
      ],
      "execution_count": null,
      "outputs": [
        {
          "output_type": "stream",
          "name": "stdout",
          "text": [
            "<class 'pandas.core.frame.DataFrame'>\n",
            "Int64Index: 8950 entries, 1 to 8950\n",
            "Data columns (total 21 columns):\n",
            " #   Column                            Non-Null Count  Dtype         \n",
            "---  ------                            --------------  -----         \n",
            " 0   cust_id                           8950 non-null   object        \n",
            " 1   activated_date                    8950 non-null   datetime64[ns]\n",
            " 2   last_payment_date                 8950 non-null   datetime64[ns]\n",
            " 3   balance                           8950 non-null   float64       \n",
            " 4   balance_frequency                 8950 non-null   float64       \n",
            " 5   purchases                         8950 non-null   float64       \n",
            " 6   oneoff_purchases                  8950 non-null   float64       \n",
            " 7   installments_purchases            8950 non-null   float64       \n",
            " 8   cash_advance                      8950 non-null   float64       \n",
            " 9   purchases_frequency               8950 non-null   float64       \n",
            " 10  oneoff_purchases_frequency        8950 non-null   float64       \n",
            " 11  purchases_installments_frequency  8950 non-null   float64       \n",
            " 12  cash_advance_frequency            8950 non-null   float64       \n",
            " 13  cash_advance_trx                  8950 non-null   int64         \n",
            " 14  purchases_trx                     8950 non-null   int64         \n",
            " 15  credit_limit                      8950 non-null   float64       \n",
            " 16  payments                          8950 non-null   float64       \n",
            " 17  minimum_payments                  8950 non-null   float64       \n",
            " 18  prc_full_payment                  8950 non-null   float64       \n",
            " 19  tenure                            8950 non-null   int64         \n",
            " 20  fraud                             8950 non-null   int64         \n",
            "dtypes: datetime64[ns](2), float64(14), int64(4), object(1)\n",
            "memory usage: 1.5+ MB\n"
          ]
        }
      ]
    },
    {
      "cell_type": "markdown",
      "metadata": {
        "id": "PdOmxEObUZlt"
      },
      "source": [
        "### **1.3 Report mean and median balance, grouped by year and month of activated_date.**"
      ]
    },
    {
      "cell_type": "markdown",
      "metadata": {
        "id": "jK_XZiosyhsJ"
      },
      "source": [
        "Making a filters, rename columns and drop columns for make two new tables of \"mean\" and \"median\"."
      ]
    },
    {
      "cell_type": "code",
      "metadata": {
        "colab": {
          "base_uri": "https://localhost:8080/",
          "height": 426
        },
        "id": "vI6lm8YinWMd",
        "outputId": "68c34fe7-793d-4bb7-f6b1-51ae393c4bd1"
      },
      "source": [
        "new_df_filter_mean=new_df.groupby(pd.PeriodIndex(new_df[\"activated_date\"],freq=\"M\"),axis=0).mean()\n",
        "mean=new_df_filter_mean.rename(columns={\"balance\":\"mean\"})\n",
        "mean.drop(columns=[\"balance_frequency\",\"purchases\",\"oneoff_purchases\",\"installments_purchases\",\"cash_advance\",\"purchases_frequency\",\"oneoff_purchases_frequency\",\"purchases_installments_frequency\",\"cash_advance_frequency\",\"cash_advance_trx\",\"purchases_trx\",\"credit_limit\",\"payments\",\"minimum_payments\",\"prc_full_payment\",\"tenure\",\"fraud\"])"
      ],
      "execution_count": null,
      "outputs": [
        {
          "output_type": "execute_result",
          "data": {
            "text/html": [
              "<div>\n",
              "<style scoped>\n",
              "    .dataframe tbody tr th:only-of-type {\n",
              "        vertical-align: middle;\n",
              "    }\n",
              "\n",
              "    .dataframe tbody tr th {\n",
              "        vertical-align: top;\n",
              "    }\n",
              "\n",
              "    .dataframe thead th {\n",
              "        text-align: right;\n",
              "    }\n",
              "</style>\n",
              "<table border=\"1\" class=\"dataframe\">\n",
              "  <thead>\n",
              "    <tr style=\"text-align: right;\">\n",
              "      <th></th>\n",
              "      <th>mean</th>\n",
              "    </tr>\n",
              "    <tr>\n",
              "      <th>activated_date</th>\n",
              "      <th></th>\n",
              "    </tr>\n",
              "  </thead>\n",
              "  <tbody>\n",
              "    <tr>\n",
              "      <th>1970-01</th>\n",
              "      <td>1170.314801</td>\n",
              "    </tr>\n",
              "    <tr>\n",
              "      <th>2019-10</th>\n",
              "      <td>2482.234166</td>\n",
              "    </tr>\n",
              "    <tr>\n",
              "      <th>2019-11</th>\n",
              "      <td>1848.704323</td>\n",
              "    </tr>\n",
              "    <tr>\n",
              "      <th>2019-12</th>\n",
              "      <td>2016.460429</td>\n",
              "    </tr>\n",
              "    <tr>\n",
              "      <th>2020-01</th>\n",
              "      <td>1852.447448</td>\n",
              "    </tr>\n",
              "    <tr>\n",
              "      <th>2020-02</th>\n",
              "      <td>1747.350977</td>\n",
              "    </tr>\n",
              "    <tr>\n",
              "      <th>2020-03</th>\n",
              "      <td>1554.973023</td>\n",
              "    </tr>\n",
              "    <tr>\n",
              "      <th>2020-04</th>\n",
              "      <td>1483.183191</td>\n",
              "    </tr>\n",
              "    <tr>\n",
              "      <th>2020-05</th>\n",
              "      <td>1214.333732</td>\n",
              "    </tr>\n",
              "    <tr>\n",
              "      <th>2020-06</th>\n",
              "      <td>939.997996</td>\n",
              "    </tr>\n",
              "    <tr>\n",
              "      <th>2020-07</th>\n",
              "      <td>649.717622</td>\n",
              "    </tr>\n",
              "  </tbody>\n",
              "</table>\n",
              "</div>"
            ],
            "text/plain": [
              "                       mean\n",
              "activated_date             \n",
              "1970-01         1170.314801\n",
              "2019-10         2482.234166\n",
              "2019-11         1848.704323\n",
              "2019-12         2016.460429\n",
              "2020-01         1852.447448\n",
              "2020-02         1747.350977\n",
              "2020-03         1554.973023\n",
              "2020-04         1483.183191\n",
              "2020-05         1214.333732\n",
              "2020-06          939.997996\n",
              "2020-07          649.717622"
            ]
          },
          "metadata": {},
          "execution_count": 84
        }
      ]
    },
    {
      "cell_type": "code",
      "metadata": {
        "colab": {
          "base_uri": "https://localhost:8080/",
          "height": 426
        },
        "id": "dRuEkAZ3oNbN",
        "outputId": "0d0d6b25-b63e-484e-b8c8-394faa1b115e"
      },
      "source": [
        "new_df_filter_median=new_df.groupby(pd.PeriodIndex(new_df[\"activated_date\"],freq=\"M\"),axis=0).median()\n",
        "median=new_df_filter_median.rename(columns={\"balance\":\"median\"})\n",
        "median.drop(columns=[\"balance_frequency\",\"purchases\",\"oneoff_purchases\",\"installments_purchases\",\"cash_advance\",\"purchases_frequency\",\"oneoff_purchases_frequency\",\"purchases_installments_frequency\",\"cash_advance_frequency\",\"cash_advance_trx\",\"purchases_trx\",\"credit_limit\",\"payments\",\"minimum_payments\",\"prc_full_payment\",\"tenure\",\"fraud\"])\n"
      ],
      "execution_count": null,
      "outputs": [
        {
          "output_type": "execute_result",
          "data": {
            "text/html": [
              "<div>\n",
              "<style scoped>\n",
              "    .dataframe tbody tr th:only-of-type {\n",
              "        vertical-align: middle;\n",
              "    }\n",
              "\n",
              "    .dataframe tbody tr th {\n",
              "        vertical-align: top;\n",
              "    }\n",
              "\n",
              "    .dataframe thead th {\n",
              "        text-align: right;\n",
              "    }\n",
              "</style>\n",
              "<table border=\"1\" class=\"dataframe\">\n",
              "  <thead>\n",
              "    <tr style=\"text-align: right;\">\n",
              "      <th></th>\n",
              "      <th>median</th>\n",
              "    </tr>\n",
              "    <tr>\n",
              "      <th>activated_date</th>\n",
              "      <th></th>\n",
              "    </tr>\n",
              "  </thead>\n",
              "  <tbody>\n",
              "    <tr>\n",
              "      <th>1970-01</th>\n",
              "      <td>967.177679</td>\n",
              "    </tr>\n",
              "    <tr>\n",
              "      <th>2019-10</th>\n",
              "      <td>1524.409377</td>\n",
              "    </tr>\n",
              "    <tr>\n",
              "      <th>2019-11</th>\n",
              "      <td>1082.071173</td>\n",
              "    </tr>\n",
              "    <tr>\n",
              "      <th>2019-12</th>\n",
              "      <td>1158.676210</td>\n",
              "    </tr>\n",
              "    <tr>\n",
              "      <th>2020-01</th>\n",
              "      <td>1174.706384</td>\n",
              "    </tr>\n",
              "    <tr>\n",
              "      <th>2020-02</th>\n",
              "      <td>994.841733</td>\n",
              "    </tr>\n",
              "    <tr>\n",
              "      <th>2020-03</th>\n",
              "      <td>828.954823</td>\n",
              "    </tr>\n",
              "    <tr>\n",
              "      <th>2020-04</th>\n",
              "      <td>910.141912</td>\n",
              "    </tr>\n",
              "    <tr>\n",
              "      <th>2020-05</th>\n",
              "      <td>734.557681</td>\n",
              "    </tr>\n",
              "    <tr>\n",
              "      <th>2020-06</th>\n",
              "      <td>472.791862</td>\n",
              "    </tr>\n",
              "    <tr>\n",
              "      <th>2020-07</th>\n",
              "      <td>221.291290</td>\n",
              "    </tr>\n",
              "  </tbody>\n",
              "</table>\n",
              "</div>"
            ],
            "text/plain": [
              "                     median\n",
              "activated_date             \n",
              "1970-01          967.177679\n",
              "2019-10         1524.409377\n",
              "2019-11         1082.071173\n",
              "2019-12         1158.676210\n",
              "2020-01         1174.706384\n",
              "2020-02          994.841733\n",
              "2020-03          828.954823\n",
              "2020-04          910.141912\n",
              "2020-05          734.557681\n",
              "2020-06          472.791862\n",
              "2020-07          221.291290"
            ]
          },
          "metadata": {},
          "execution_count": 85
        }
      ]
    },
    {
      "cell_type": "markdown",
      "metadata": {
        "id": "FEOnhngAZA4P"
      },
      "source": [
        "*** 1.3-RESULT ***\n",
        "\n",
        "Create a new Dataframe for combination both results in one table"
      ]
    },
    {
      "cell_type": "code",
      "metadata": {
        "colab": {
          "base_uri": "https://localhost:8080/",
          "height": 132
        },
        "id": "3SN1TPsbqYDV",
        "outputId": "ce541559-c0c6-4634-8671-12ca9b731ff1"
      },
      "source": [
        "#Group both dataframes and get the resultant table\n",
        "df_month_year=pd.DataFrame([mean[\"mean\"],median[\"median\"]])\n",
        "df_month_year.head()"
      ],
      "execution_count": null,
      "outputs": [
        {
          "output_type": "execute_result",
          "data": {
            "text/html": [
              "<div>\n",
              "<style scoped>\n",
              "    .dataframe tbody tr th:only-of-type {\n",
              "        vertical-align: middle;\n",
              "    }\n",
              "\n",
              "    .dataframe tbody tr th {\n",
              "        vertical-align: top;\n",
              "    }\n",
              "\n",
              "    .dataframe thead th {\n",
              "        text-align: right;\n",
              "    }\n",
              "</style>\n",
              "<table border=\"1\" class=\"dataframe\">\n",
              "  <thead>\n",
              "    <tr style=\"text-align: right;\">\n",
              "      <th>activated_date</th>\n",
              "      <th>1970-01</th>\n",
              "      <th>2019-10</th>\n",
              "      <th>2019-11</th>\n",
              "      <th>2019-12</th>\n",
              "      <th>2020-01</th>\n",
              "      <th>2020-02</th>\n",
              "      <th>2020-03</th>\n",
              "      <th>2020-04</th>\n",
              "      <th>2020-05</th>\n",
              "      <th>2020-06</th>\n",
              "      <th>2020-07</th>\n",
              "    </tr>\n",
              "  </thead>\n",
              "  <tbody>\n",
              "    <tr>\n",
              "      <th>mean</th>\n",
              "      <td>1170.314801</td>\n",
              "      <td>2482.234166</td>\n",
              "      <td>1848.704323</td>\n",
              "      <td>2016.460429</td>\n",
              "      <td>1852.447448</td>\n",
              "      <td>1747.350977</td>\n",
              "      <td>1554.973023</td>\n",
              "      <td>1483.183191</td>\n",
              "      <td>1214.333732</td>\n",
              "      <td>939.997996</td>\n",
              "      <td>649.717622</td>\n",
              "    </tr>\n",
              "    <tr>\n",
              "      <th>median</th>\n",
              "      <td>967.177679</td>\n",
              "      <td>1524.409377</td>\n",
              "      <td>1082.071173</td>\n",
              "      <td>1158.676210</td>\n",
              "      <td>1174.706384</td>\n",
              "      <td>994.841733</td>\n",
              "      <td>828.954823</td>\n",
              "      <td>910.141912</td>\n",
              "      <td>734.557681</td>\n",
              "      <td>472.791862</td>\n",
              "      <td>221.291290</td>\n",
              "    </tr>\n",
              "  </tbody>\n",
              "</table>\n",
              "</div>"
            ],
            "text/plain": [
              "activated_date      1970-01      2019-10  ...     2020-06     2020-07\n",
              "mean            1170.314801  2482.234166  ...  939.997996  649.717622\n",
              "median           967.177679  1524.409377  ...  472.791862  221.291290\n",
              "\n",
              "[2 rows x 11 columns]"
            ]
          },
          "metadata": {},
          "execution_count": 86
        }
      ]
    },
    {
      "cell_type": "markdown",
      "metadata": {
        "id": "bHO_Myk0bLH4"
      },
      "source": [
        "### **2.1 Report in a table the following information for customers who activated their account and made their last payment during 2020: cust_id (excluding letters), activated_date (in format YYYY-MM), last_payment_date (in format YYYY-MM-DD), cash_advance , credit_limit , and a calculated field of cash_advance as a percentage of credit_limit.**"
      ]
    },
    {
      "cell_type": "markdown",
      "metadata": {
        "id": "b8Z2ODL9zYFx"
      },
      "source": [
        "Evaluate all values:If the value==0 then Percentage=100 else (cash_advance*100)/credit_limit\n",
        "And create a new column \"Percentage\" for show the Percentage of credit that the customers have."
      ]
    },
    {
      "cell_type": "code",
      "metadata": {
        "colab": {
          "base_uri": "https://localhost:8080/"
        },
        "id": "td9GcIxH-Dp6",
        "outputId": "bc438a55-13bc-425a-84a8-245205b6cddf"
      },
      "source": [
        "operation=new_df.loc[1,\"cash_advance\"]\n",
        "for i in range(1,len(new_df)+1):\n",
        "  if new_df.loc[i,\"cash_advance\"] !=0:\n",
        "    new_df.loc[i,\"Percentage\"]=(100-((new_df.loc[i,\"cash_advance\"]*100)/new_df.loc[i,\"credit_limit\"]))\n",
        "    operation=new_df.loc[i,\"cash_advance\"]\n",
        "  else:\n",
        "    new_df.loc[i,\"Percentage\"]=100\n",
        "print(new_df)"
      ],
      "execution_count": null,
      "outputs": [
        {
          "output_type": "stream",
          "name": "stderr",
          "text": [
            "/usr/local/lib/python3.7/dist-packages/ipykernel_launcher.py:4: RuntimeWarning: divide by zero encountered in double_scalars\n",
            "  after removing the cwd from sys.path.\n"
          ]
        },
        {
          "output_type": "stream",
          "name": "stdout",
          "text": [
            "     cust_id activated_date last_payment_date  ...  tenure  fraud  Percentage\n",
            "1     C10001     2019-10-06        2020-09-09  ...      12      0  100.000000\n",
            "2     C10002     2019-10-06        2020-07-04  ...      12      0    7.957922\n",
            "3     C10003     2019-10-06        2020-09-17  ...      12      0  100.000000\n",
            "4     C10004     2019-10-06        2020-08-24  ...      12      0   97.256160\n",
            "5     C10005     2019-10-06        2020-10-20  ...      12      0  100.000000\n",
            "...      ...            ...               ...  ...     ...    ...         ...\n",
            "8946  C19186     2020-07-31        2020-11-03  ...       6      0  100.000000\n",
            "8947  C19187     2020-07-31        2020-09-06  ...       6      0  100.000000\n",
            "8948  C19188     2020-07-31        2020-06-03  ...       6      0  100.000000\n",
            "8949  C19189     2020-07-31        2020-07-19  ...       6      0   92.688244\n",
            "8950  C19190     2020-07-31        2020-10-14  ...       6      0   89.413333\n",
            "\n",
            "[8950 rows x 22 columns]\n"
          ]
        }
      ]
    },
    {
      "cell_type": "markdown",
      "metadata": {
        "id": "dPEmUQd20Ivy"
      },
      "source": [
        "Drop the letter C from column \"cust_id\""
      ]
    },
    {
      "cell_type": "code",
      "metadata": {
        "colab": {
          "base_uri": "https://localhost:8080/",
          "height": 438
        },
        "id": "8Ks6MmMUsfDN",
        "outputId": "dd15e3e9-b781-433b-83cc-93b8ee4ab323"
      },
      "source": [
        "new_df_table=pd.DataFrame([],[new_df[\"cust_id\"].str.replace(\"C\",\"\").astype(int),new_df[\"activated_date\"],new_df[\"last_payment_date\"],new_df[\"cash_advance\"],new_df[\"credit_limit\"],new_df[\"Percentage\"]])\n",
        "new_df_table"
      ],
      "execution_count": null,
      "outputs": [
        {
          "output_type": "execute_result",
          "data": {
            "text/html": [
              "<div>\n",
              "<style scoped>\n",
              "    .dataframe tbody tr th:only-of-type {\n",
              "        vertical-align: middle;\n",
              "    }\n",
              "\n",
              "    .dataframe tbody tr th {\n",
              "        vertical-align: top;\n",
              "    }\n",
              "\n",
              "    .dataframe thead th {\n",
              "        text-align: right;\n",
              "    }\n",
              "</style>\n",
              "<table border=\"1\" class=\"dataframe\">\n",
              "  <thead>\n",
              "    <tr style=\"text-align: right;\">\n",
              "      <th></th>\n",
              "      <th></th>\n",
              "      <th></th>\n",
              "      <th></th>\n",
              "      <th></th>\n",
              "      <th></th>\n",
              "    </tr>\n",
              "    <tr>\n",
              "      <th>cust_id</th>\n",
              "      <th>activated_date</th>\n",
              "      <th>last_payment_date</th>\n",
              "      <th>cash_advance</th>\n",
              "      <th>credit_limit</th>\n",
              "      <th>Percentage</th>\n",
              "    </tr>\n",
              "  </thead>\n",
              "  <tbody>\n",
              "    <tr>\n",
              "      <th>10001</th>\n",
              "      <th>2019-10-06</th>\n",
              "      <th>2020-09-09</th>\n",
              "      <th>0.000000</th>\n",
              "      <th>1000.0</th>\n",
              "      <th>100.000000</th>\n",
              "    </tr>\n",
              "    <tr>\n",
              "      <th>10002</th>\n",
              "      <th>2019-10-06</th>\n",
              "      <th>2020-07-04</th>\n",
              "      <th>6442.945483</th>\n",
              "      <th>7000.0</th>\n",
              "      <th>7.957922</th>\n",
              "    </tr>\n",
              "    <tr>\n",
              "      <th>10003</th>\n",
              "      <th>2019-10-06</th>\n",
              "      <th>2020-09-17</th>\n",
              "      <th>0.000000</th>\n",
              "      <th>7500.0</th>\n",
              "      <th>100.000000</th>\n",
              "    </tr>\n",
              "    <tr>\n",
              "      <th>10004</th>\n",
              "      <th>2019-10-06</th>\n",
              "      <th>2020-08-24</th>\n",
              "      <th>205.788017</th>\n",
              "      <th>7500.0</th>\n",
              "      <th>97.256160</th>\n",
              "    </tr>\n",
              "    <tr>\n",
              "      <th>10005</th>\n",
              "      <th>2019-10-06</th>\n",
              "      <th>2020-10-20</th>\n",
              "      <th>0.000000</th>\n",
              "      <th>1200.0</th>\n",
              "      <th>100.000000</th>\n",
              "    </tr>\n",
              "    <tr>\n",
              "      <th>...</th>\n",
              "      <th>...</th>\n",
              "      <th>...</th>\n",
              "      <th>...</th>\n",
              "      <th>...</th>\n",
              "      <th>...</th>\n",
              "    </tr>\n",
              "    <tr>\n",
              "      <th>19186</th>\n",
              "      <th>2020-07-31</th>\n",
              "      <th>2020-11-03</th>\n",
              "      <th>0.000000</th>\n",
              "      <th>1000.0</th>\n",
              "      <th>100.000000</th>\n",
              "    </tr>\n",
              "    <tr>\n",
              "      <th>19187</th>\n",
              "      <th>2020-07-31</th>\n",
              "      <th>2020-09-06</th>\n",
              "      <th>0.000000</th>\n",
              "      <th>1000.0</th>\n",
              "      <th>100.000000</th>\n",
              "    </tr>\n",
              "    <tr>\n",
              "      <th>19188</th>\n",
              "      <th>2020-07-31</th>\n",
              "      <th>2020-06-03</th>\n",
              "      <th>0.000000</th>\n",
              "      <th>1000.0</th>\n",
              "      <th>100.000000</th>\n",
              "    </tr>\n",
              "    <tr>\n",
              "      <th>19189</th>\n",
              "      <th>2020-07-31</th>\n",
              "      <th>2020-07-19</th>\n",
              "      <th>36.558778</th>\n",
              "      <th>500.0</th>\n",
              "      <th>92.688244</th>\n",
              "    </tr>\n",
              "    <tr>\n",
              "      <th>19190</th>\n",
              "      <th>2020-07-31</th>\n",
              "      <th>2020-10-14</th>\n",
              "      <th>127.040008</th>\n",
              "      <th>1200.0</th>\n",
              "      <th>89.413333</th>\n",
              "    </tr>\n",
              "  </tbody>\n",
              "</table>\n",
              "<p>8950 rows × 0 columns</p>\n",
              "</div>"
            ],
            "text/plain": [
              "Empty DataFrame\n",
              "Columns: []\n",
              "Index: [(10001, 2019-10-06 00:00:00, 2020-09-09 00:00:00, 0.0, 1000.0, 100.0), (10002, 2019-10-06 00:00:00, 2020-07-04 00:00:00, 6442.9454829999995, 7000.0, 7.957921671428579), (10003, 2019-10-06 00:00:00, 2020-09-17 00:00:00, 0.0, 7500.0, 100.0), (10004, 2019-10-06 00:00:00, 2020-08-24 00:00:00, 205.788017, 7500.0, 97.25615977333334), (10005, 2019-10-06 00:00:00, 2020-10-20 00:00:00, 0.0, 1200.0, 100.0), (10006, 2019-10-06 00:00:00, 2020-07-27 00:00:00, 0.0, 1800.0, 100.0), (10007, 2019-10-06 00:00:00, 2020-10-30 00:00:00, 0.0, 13500.0, 100.0), (10008, 2019-10-06 00:00:00, 2020-08-06 00:00:00, 0.0, 2300.0, 100.0), (10009, 2019-10-06 00:00:00, 2020-10-06 00:00:00, 0.0, 7000.0, 100.0), (10010, 2019-10-06 00:00:00, 2020-05-06 00:00:00, 0.0, 11000.0, 100.0), (10011, 2019-10-06 00:00:00, 2020-10-20 00:00:00, 0.0, 1200.0, 100.0), (10012, 2019-10-06 00:00:00, 2020-05-12 00:00:00, 0.0, 2000.0, 100.0), (10013, 2019-10-06 00:00:00, 2020-10-09 00:00:00, 0.0, 3000.0, 100.0), (10014, 2019-10-06 00:00:00, 2020-05-28 00:00:00, 0.0, 7500.0, 100.0), (10015, 2019-10-06 00:00:00, 2020-10-23 00:00:00, 346.81139, 3000.0, 88.43962033333334), (10016, 2019-10-06 00:00:00, 2020-07-07 00:00:00, 2301.4912670000003, 8000.0, 71.2313591625), (10017, 2019-10-06 00:00:00, 2020-10-15 00:00:00, 2784.274703, 3000.0, 7.190843233333339), (10018, 2019-10-06 00:00:00, 2020-09-21 00:00:00, 0.0, 2500.0, 100.0), (10019, 2019-10-06 00:00:00, 2020-05-03 00:00:00, 0.0, 13000.0, 100.0), (10020, 2019-10-06 00:00:00, 2020-06-30 00:00:00, 0.0, 4000.0, 100.0), (10021, 2019-10-06 00:00:00, 2020-06-07 00:00:00, 0.0, 2000.0, 100.0), (10022, 2019-10-06 00:00:00, 2020-09-13 00:00:00, 229.02824500000003, 11250.0, 97.96419337777778), (10023, 2019-10-06 00:00:00, 2020-07-13 00:00:00, 0.0, 1800.0, 100.0), (10024, 2019-10-06 00:00:00, 2020-06-05 00:00:00, 7974.415626000001, 9000.0, 11.395381933333326), (10025, 2019-10-06 00:00:00, 2020-07-30 00:00:00, 798.9498629999999, 6000.0, 86.68416895), (10026, 2019-10-06 00:00:00, 2020-10-27 00:00:00, 0.0, 3000.0, 100.0), (10027, 2019-10-06 00:00:00, 2020-11-04 00:00:00, 244.840485, 1700.0, 85.59761852941176), (10028, 2019-10-06 00:00:00, 2020-07-31 00:00:00, 0.0, 1000.0, 100.0), (10029, 2019-10-06 00:00:00, 2020-08-31 00:00:00, 2236.145259, 10500.0, 78.7033784857143), (10030, 2019-10-06 00:00:00, 2020-07-08 00:00:00, 0.0, 6900.0, 100.0), (10031, 2019-10-06 00:00:00, 2020-10-11 00:00:00, 3183.583301, 13000.0, 75.51089768461539), (10032, 2019-10-07 00:00:00, 2020-10-10 00:00:00, 175.815755, 6000.0, 97.06973741666667), (10033, 2019-10-07 00:00:00, 2020-07-10 00:00:00, 1189.533753, 10500.0, 88.67110711428572), (10034, 2019-10-07 00:00:00, 2020-06-22 00:00:00, 0.0, 1200.0, 100.0), (10035, 2019-10-07 00:00:00, 2020-08-15 00:00:00, 0.0, 11000.0, 100.0), (10036, 2019-10-07 00:00:00, 2020-09-04 00:00:00, 99.26436700000001, 1800.0, 94.48531294444444), (10037, 2019-10-07 00:00:00, 2020-07-17 00:00:00, 8873.375046, 9000.0, 1.406943933333352), (10038, 2019-10-07 00:00:00, 2020-05-01 00:00:00, 1697.6609010000002, 5000.0, 66.04678197999999), (10039, 2019-10-07 00:00:00, 2020-07-19 00:00:00, 2925.699862, 9000.0, 67.49222375555556), (10040, 2019-10-07 00:00:00, 2020-05-27 00:00:00, 6173.682877, 7500.0, 17.684228306666668), (10041, 2019-10-07 00:00:00, 2020-11-01 00:00:00, 3133.063934, 1800.0, -74.05910744444444), (10043, 2019-10-07 00:00:00, 2020-04-27 00:00:00, 2188.419607, 3000.0, 27.05267976666667), (10044, 2019-10-07 00:00:00, 2020-08-25 00:00:00, 0.0, 4500.0, 100.0), (10045, 2019-10-07 00:00:00, 2020-06-20 00:00:00, 1481.5870929999999, 1500.0, 1.2275271333333393), (10046, 2019-10-07 00:00:00, 2020-08-29 00:00:00, 0.0, 8500.0, 100.0), (10047, 2019-10-07 00:00:00, 2020-08-27 00:00:00, 184.64869199999998, 2400.0, 92.3063045), (10048, 2019-10-07 00:00:00, 2020-07-28 00:00:00, 1013.659552, 1700.0, 40.37296752941177), (10049, 2019-10-07 00:00:00, 2020-07-07 00:00:00, 1980.873201, 4200.0, 52.83635235714286), (10050, 2019-10-07 00:00:00, 2020-06-16 00:00:00, 0.0, 3300.0, 100.0), (10051, 2019-10-07 00:00:00, 2020-06-07 00:00:00, 695.097159, 4000.0, 82.622571025), (10052, 2019-10-07 00:00:00, 2020-07-15 00:00:00, 8530.648614, 12000.0, 28.911261550000006), (10053, 2019-10-07 00:00:00, 2020-10-05 00:00:00, 0.0, 2500.0, 100.0), (10054, 2019-10-07 00:00:00, 2020-05-15 00:00:00, 321.35913500000004, 3500.0, 90.81831042857142), (10055, 2019-10-07 00:00:00, 2020-06-02 00:00:00, 1981.265503, 3000.0, 33.957816566666665), (10056, 2019-10-07 00:00:00, 2020-07-30 00:00:00, 0.0, 1000.0, 100.0), (10057, 2019-10-07 00:00:00, 2020-09-23 00:00:00, 0.0, 6000.0, 100.0), (10058, 2019-10-07 00:00:00, 2020-06-07 00:00:00, 668.468743, 4000.0, 83.28828142500001), (10059, 2019-10-07 00:00:00, 2020-09-13 00:00:00, 0.0, 7500.0, 100.0), (10060, 2019-10-07 00:00:00, 2020-10-16 00:00:00, 224.575517, 4000.0, 94.385612075), (10061, 2019-10-07 00:00:00, 2020-05-29 00:00:00, 970.5913320000001, 6000.0, 83.8234778), (10062, 2019-10-07 00:00:00, 2020-10-26 00:00:00, 0.0, 6500.0, 100.0), (10063, 2019-10-07 00:00:00, 2020-08-15 00:00:00, 0.0, 1600.0, 100.0), (10064, 2019-10-07 00:00:00, 2020-05-17 00:00:00, 3819.6724659999995, 4150.0, 7.959699614457847), (10065, 2019-10-07 00:00:00, 2020-05-25 00:00:00, 0.0, 1600.0, 100.0), (10067, 2019-10-07 00:00:00, 2020-05-12 00:00:00, 1605.9493710000002, 1850.0, 13.191925891891884), (10068, 2019-10-07 00:00:00, 2020-10-07 00:00:00, 0.0, 1800.0, 100.0), (10069, 2019-10-08 00:00:00, 2020-06-24 00:00:00, 908.4236080000001, 1500.0, 39.43842613333333), (10070, 2019-10-08 00:00:00, 2020-10-05 00:00:00, 382.908547, 2500.0, 84.68365812), (10071, 2019-10-08 00:00:00, 2020-07-27 00:00:00, 0.0, 6000.0, 100.0), (10072, 2019-10-08 00:00:00, 2020-06-29 00:00:00, 0.0, 1700.0, 100.0), (10073, 2019-10-08 00:00:00, 2020-08-11 00:00:00, 625.399386, 6250.0, 89.993609824), (10074, 2019-10-08 00:00:00, 2020-11-05 00:00:00, 27296.485760000003, 7000.0, -289.94979657142864), (10075, 2019-10-08 00:00:00, 2020-09-27 00:00:00, 1474.349901, 7000.0, 78.93785855714286), (10077, 2019-10-08 00:00:00, 2020-08-14 00:00:00, 0.0, 2250.0, 100.0), (10078, 2019-10-08 00:00:00, 2020-05-23 00:00:00, 0.0, 6000.0, 100.0), (10079, 2019-10-08 00:00:00, 2020-09-11 00:00:00, 0.0, 6000.0, 100.0), (10080, 2019-10-08 00:00:00, 2020-08-20 00:00:00, 0.0, 11000.0, 100.0), (10081, 2019-10-08 00:00:00, 2020-08-30 00:00:00, 0.0, 1500.0, 100.0), (10082, 2019-10-08 00:00:00, 2020-06-14 00:00:00, 38.325801, 1200.0, 96.80618325), (10083, 2019-10-08 00:00:00, 2020-09-29 00:00:00, 4621.93458, 7000.0, 33.97236314285715), (10084, 2019-10-08 00:00:00, 2020-06-16 00:00:00, 0.0, 5000.0, 100.0), (10085, 2019-10-08 00:00:00, 2020-05-03 00:00:00, 2985.300006, 9500.0, 68.57578941052631), (10086, 2019-10-08 00:00:00, 2020-09-11 00:00:00, 0.0, 12000.0, 100.0), (10087, 2019-10-08 00:00:00, 2020-08-29 00:00:00, 0.0, 1200.0, 100.0), (10088, 2019-10-08 00:00:00, 2020-08-10 00:00:00, 293.844792, 9000.0, 96.73505786666666), (10089, 2019-10-08 00:00:00, 2020-05-08 00:00:00, 0.0, 16500.0, 100.0), (10090, 2019-10-08 00:00:00, 2020-09-22 00:00:00, 5626.004046, 11000.0, 48.85450867272727), (10092, 2019-10-08 00:00:00, 2020-09-14 00:00:00, 5251.228934000001, 13500.0, 61.10200789629629), (10093, 2019-10-08 00:00:00, 2020-06-03 00:00:00, 104.23806400000001, 4500.0, 97.68359857777777), (10094, 2019-10-08 00:00:00, 2020-07-21 00:00:00, 0.0, 6500.0, 100.0), (10095, 2019-10-08 00:00:00, 2020-08-07 00:00:00, 370.73719700000004, 9000.0, 95.8806978111111), (10096, 2019-10-08 00:00:00, 2020-10-24 00:00:00, 4335.919227, 4000.0, -8.397980675000014), (10097, 2019-10-08 00:00:00, 2020-07-17 00:00:00, 495.657934, 1800.0, 72.4634481111111), (10098, 2019-10-08 00:00:00, 2020-10-09 00:00:00, 0.0, 2400.0, 100.0), (10099, 2019-10-08 00:00:00, 2020-10-09 00:00:00, 0.0, 2400.0, 100.0), (10100, 2019-10-08 00:00:00, 2020-10-09 00:00:00, 120.61291200000001, 1200.0, 89.948924), (10101, 2019-10-08 00:00:00, 2020-07-29 00:00:00, 0.0, 6000.0, 100.0), (10102, 2019-10-08 00:00:00, 2020-08-29 00:00:00, 1713.9843050000002, 4000.0, 57.150392374999996), (10103, 2019-10-08 00:00:00, 2020-06-04 00:00:00, 0.0, 7000.0, 100.0), (10104, 2019-10-08 00:00:00, 2020-06-06 00:00:00, 89.84900400000001, 3000.0, 97.0050332), ...]\n",
              "\n",
              "[8950 rows x 0 columns]"
            ]
          },
          "metadata": {},
          "execution_count": 88
        }
      ]
    },
    {
      "cell_type": "markdown",
      "metadata": {
        "id": "u1Lo0lDPcYfz"
      },
      "source": [
        "***2.1 RESULT***\n",
        "\n",
        "Show a filtered dataframe with range users that have an active date in 2020 and the last payment date where in 2020"
      ]
    },
    {
      "cell_type": "code",
      "metadata": {
        "colab": {
          "base_uri": "https://localhost:8080/",
          "height": 438
        },
        "id": "y5X5SaQ8Xipi",
        "outputId": "a2a5ac3e-fc2f-4d85-9552-5d3c4f115d39"
      },
      "source": [
        "filtered_df=new_df_table.query(\"activated_date>= '2020-02-01' and activated_date<='2020-12-31' and last_payment_date>='2020-02-01' and last_payment_date<='2020-12-31'\")\n",
        "filtered_df"
      ],
      "execution_count": null,
      "outputs": [
        {
          "output_type": "execute_result",
          "data": {
            "text/html": [
              "<div>\n",
              "<style scoped>\n",
              "    .dataframe tbody tr th:only-of-type {\n",
              "        vertical-align: middle;\n",
              "    }\n",
              "\n",
              "    .dataframe tbody tr th {\n",
              "        vertical-align: top;\n",
              "    }\n",
              "\n",
              "    .dataframe thead th {\n",
              "        text-align: right;\n",
              "    }\n",
              "</style>\n",
              "<table border=\"1\" class=\"dataframe\">\n",
              "  <thead>\n",
              "    <tr style=\"text-align: right;\">\n",
              "      <th></th>\n",
              "      <th></th>\n",
              "      <th></th>\n",
              "      <th></th>\n",
              "      <th></th>\n",
              "      <th></th>\n",
              "    </tr>\n",
              "    <tr>\n",
              "      <th>cust_id</th>\n",
              "      <th>activated_date</th>\n",
              "      <th>last_payment_date</th>\n",
              "      <th>cash_advance</th>\n",
              "      <th>credit_limit</th>\n",
              "      <th>Percentage</th>\n",
              "    </tr>\n",
              "  </thead>\n",
              "  <tbody>\n",
              "    <tr>\n",
              "      <th>13622</th>\n",
              "      <th>2020-02-01</th>\n",
              "      <th>2020-11-01</th>\n",
              "      <th>0.000000</th>\n",
              "      <th>10500.0</th>\n",
              "      <th>100.000000</th>\n",
              "    </tr>\n",
              "    <tr>\n",
              "      <th>13623</th>\n",
              "      <th>2020-02-01</th>\n",
              "      <th>2020-10-26</th>\n",
              "      <th>75.783817</th>\n",
              "      <th>1500.0</th>\n",
              "      <th>94.947746</th>\n",
              "    </tr>\n",
              "    <tr>\n",
              "      <th>13624</th>\n",
              "      <th>2020-02-01</th>\n",
              "      <th>2020-04-25</th>\n",
              "      <th>0.000000</th>\n",
              "      <th>4500.0</th>\n",
              "      <th>100.000000</th>\n",
              "    </tr>\n",
              "    <tr>\n",
              "      <th>13625</th>\n",
              "      <th>2020-02-01</th>\n",
              "      <th>2020-10-12</th>\n",
              "      <th>0.000000</th>\n",
              "      <th>6000.0</th>\n",
              "      <th>100.000000</th>\n",
              "    </tr>\n",
              "    <tr>\n",
              "      <th>13626</th>\n",
              "      <th>2020-02-01</th>\n",
              "      <th>2020-06-15</th>\n",
              "      <th>344.256221</th>\n",
              "      <th>2500.0</th>\n",
              "      <th>86.229751</th>\n",
              "    </tr>\n",
              "    <tr>\n",
              "      <th>...</th>\n",
              "      <th>...</th>\n",
              "      <th>...</th>\n",
              "      <th>...</th>\n",
              "      <th>...</th>\n",
              "      <th>...</th>\n",
              "    </tr>\n",
              "    <tr>\n",
              "      <th>19186</th>\n",
              "      <th>2020-07-31</th>\n",
              "      <th>2020-11-03</th>\n",
              "      <th>0.000000</th>\n",
              "      <th>1000.0</th>\n",
              "      <th>100.000000</th>\n",
              "    </tr>\n",
              "    <tr>\n",
              "      <th>19187</th>\n",
              "      <th>2020-07-31</th>\n",
              "      <th>2020-09-06</th>\n",
              "      <th>0.000000</th>\n",
              "      <th>1000.0</th>\n",
              "      <th>100.000000</th>\n",
              "    </tr>\n",
              "    <tr>\n",
              "      <th>19188</th>\n",
              "      <th>2020-07-31</th>\n",
              "      <th>2020-06-03</th>\n",
              "      <th>0.000000</th>\n",
              "      <th>1000.0</th>\n",
              "      <th>100.000000</th>\n",
              "    </tr>\n",
              "    <tr>\n",
              "      <th>19189</th>\n",
              "      <th>2020-07-31</th>\n",
              "      <th>2020-07-19</th>\n",
              "      <th>36.558778</th>\n",
              "      <th>500.0</th>\n",
              "      <th>92.688244</th>\n",
              "    </tr>\n",
              "    <tr>\n",
              "      <th>19190</th>\n",
              "      <th>2020-07-31</th>\n",
              "      <th>2020-10-14</th>\n",
              "      <th>127.040008</th>\n",
              "      <th>1200.0</th>\n",
              "      <th>89.413333</th>\n",
              "    </tr>\n",
              "  </tbody>\n",
              "</table>\n",
              "<p>5413 rows × 0 columns</p>\n",
              "</div>"
            ],
            "text/plain": [
              "Empty DataFrame\n",
              "Columns: []\n",
              "Index: [(13622, 2020-02-01 00:00:00, 2020-11-01 00:00:00, 0.0, 10500.0, 100.0), (13623, 2020-02-01 00:00:00, 2020-10-26 00:00:00, 75.783817, 1500.0, 94.94774553333333), (13624, 2020-02-01 00:00:00, 2020-04-25 00:00:00, 0.0, 4500.0, 100.0), (13625, 2020-02-01 00:00:00, 2020-10-12 00:00:00, 0.0, 6000.0, 100.0), (13626, 2020-02-01 00:00:00, 2020-06-15 00:00:00, 344.256221, 2500.0, 86.22975116), (13627, 2020-02-01 00:00:00, 2020-07-02 00:00:00, 0.0, 5300.0, 100.0), (13628, 2020-02-01 00:00:00, 2020-10-18 00:00:00, 1607.410863, 3500.0, 54.073975342857146), (13629, 2020-02-01 00:00:00, 2020-08-22 00:00:00, 3143.218022, 9000.0, 65.07535531111111), (13630, 2020-02-01 00:00:00, 2020-06-27 00:00:00, 1637.416111, 9000.0, 81.80648765555556), (13631, 2020-02-01 00:00:00, 2020-05-12 00:00:00, 0.0, 3500.0, 100.0), (13632, 2020-02-01 00:00:00, 2020-10-17 00:00:00, 584.439061, 6000.0, 90.25934898333333), (13633, 2020-02-01 00:00:00, 2020-08-04 00:00:00, 3213.624456, 4000.0, 19.6593886), (13634, 2020-02-01 00:00:00, 2020-10-18 00:00:00, 451.81593399999997, 1200.0, 62.34867216666667), (13635, 2020-02-01 00:00:00, 2020-06-02 00:00:00, 789.024025, 4200.0, 81.21371369047618), (13636, 2020-02-01 00:00:00, 2020-11-04 00:00:00, 3440.35465, 3600.0, 4.434593055555553), (13637, 2020-02-01 00:00:00, 2020-11-05 00:00:00, 0.0, 4100.0, 100.0), (13638, 2020-02-01 00:00:00, 2020-10-01 00:00:00, 0.0, 6000.0, 100.0), (13639, 2020-02-01 00:00:00, 2020-09-15 00:00:00, 2191.862613, 5500.0, 60.14795249090909), (13640, 2020-02-01 00:00:00, 2020-05-01 00:00:00, 0.0, 7500.0, 100.0), (13641, 2020-02-01 00:00:00, 2020-05-28 00:00:00, 0.0, 10500.0, 100.0), (13642, 2020-02-01 00:00:00, 2020-04-27 00:00:00, 0.0, 1800.0, 100.0), (13643, 2020-02-01 00:00:00, 2020-08-30 00:00:00, 99.27619, 1700.0, 94.16022411764706), (13644, 2020-02-01 00:00:00, 2020-04-25 00:00:00, 0.0, 3500.0, 100.0), (13645, 2020-02-01 00:00:00, 2020-11-02 00:00:00, 9968.184827, 10500.0, 5.0649064095238145), (13646, 2020-02-01 00:00:00, 2020-05-16 00:00:00, 1101.192457, 1000.0, -10.119245700000008), (13647, 2020-02-01 00:00:00, 2020-08-04 00:00:00, 5737.6714520000005, 9500.0, 39.603458399999994), (13648, 2020-02-01 00:00:00, 2020-04-26 00:00:00, 1189.4186949999998, 5650.0, 78.94834168141594), (13649, 2020-02-01 00:00:00, 2020-10-26 00:00:00, 145.998161, 3000.0, 95.13339463333334), (13650, 2020-02-01 00:00:00, 2020-07-03 00:00:00, 0.0, 7000.0, 100.0), (13651, 2020-02-01 00:00:00, 2020-06-03 00:00:00, 0.0, 2400.0, 100.0), (13652, 2020-02-01 00:00:00, 2020-05-13 00:00:00, 3473.011991, 5000.0, 30.539760180000002), (13653, 2020-02-01 00:00:00, 2020-05-20 00:00:00, 0.0, 9500.0, 100.0), (13654, 2020-02-01 00:00:00, 2020-04-27 00:00:00, 2402.323391, 5000.0, 51.95353218), (13655, 2020-02-01 00:00:00, 2020-07-09 00:00:00, 19862.87844, 16500.0, -20.381081454545452), (13656, 2020-02-01 00:00:00, 2020-05-14 00:00:00, 1710.1970629999998, 7500.0, 77.19737249333333), (13657, 2020-02-01 00:00:00, 2020-10-17 00:00:00, 0.0, 1700.0, 100.0), (13658, 2020-02-01 00:00:00, 2020-06-20 00:00:00, 929.641923, 2700.0, 65.56881766666666), (13659, 2020-02-01 00:00:00, 2020-11-07 00:00:00, 0.0, 1200.0, 100.0), (13660, 2020-02-01 00:00:00, 2020-07-14 00:00:00, 10717.89195, 7000.0, -53.112742142857115), (13661, 2020-02-01 00:00:00, 2020-07-15 00:00:00, 272.884393, 1200.0, 77.25963391666667), (13662, 2020-02-01 00:00:00, 2020-05-12 00:00:00, 1845.164653, 4000.0, 53.870883674999995), (13663, 2020-02-01 00:00:00, 2020-08-17 00:00:00, 273.882354, 1200.0, 77.1764705), (13664, 2020-02-02 00:00:00, 2020-10-25 00:00:00, 0.0, 1000.0, 100.0), (13665, 2020-02-02 00:00:00, 2020-08-18 00:00:00, 1984.8023859999998, 1800.0, -10.266799222222218), (13666, 2020-02-02 00:00:00, 2020-07-16 00:00:00, 1101.246941, 8200.0, 86.57015925609755), (13668, 2020-02-02 00:00:00, 2020-06-23 00:00:00, 2169.972526, 4000.0, 45.75068685), (13669, 2020-02-02 00:00:00, 2020-10-02 00:00:00, 0.0, 1300.0, 100.0), (13670, 2020-02-02 00:00:00, 2020-07-27 00:00:00, 2359.135053, 7000.0, 66.29807067142858), (13671, 2020-02-02 00:00:00, 2020-09-21 00:00:00, 3521.075329, 8500.0, 58.57558436470588), (13672, 2020-02-02 00:00:00, 2020-11-01 00:00:00, 9423.621866, 10500.0, 10.251220323809534), (13673, 2020-02-02 00:00:00, 2020-10-02 00:00:00, 1865.5784469999999, 7000.0, 73.34887932857143), (13674, 2020-02-02 00:00:00, 2020-05-24 00:00:00, 0.0, 2500.0, 100.0), (13675, 2020-02-02 00:00:00, 2020-07-23 00:00:00, 2763.612473, 5000.0, 44.72775054), (13676, 2020-02-02 00:00:00, 2020-05-15 00:00:00, 1785.847822, 3400.0, 47.475064058823534), (13677, 2020-02-02 00:00:00, 2020-08-01 00:00:00, 0.0, 5000.0, 100.0), (13678, 2020-02-02 00:00:00, 2020-07-30 00:00:00, 901.458485, 3000.0, 69.95138383333334), (13679, 2020-02-02 00:00:00, 2020-05-16 00:00:00, 490.16229000000004, 1800.0, 72.76876166666666), (13680, 2020-02-02 00:00:00, 2020-07-08 00:00:00, 0.0, 1800.0, 100.0), (13681, 2020-02-02 00:00:00, 2020-09-23 00:00:00, 0.0, 2500.0, 100.0), (13682, 2020-02-02 00:00:00, 2020-07-17 00:00:00, 0.0, 4000.0, 100.0), (13683, 2020-02-02 00:00:00, 2020-05-17 00:00:00, 0.0, 300.0, 100.0), (13684, 2020-02-02 00:00:00, 2020-05-06 00:00:00, 103.334378, 6500.0, 98.41024033846153), (13685, 2020-02-02 00:00:00, 2020-09-10 00:00:00, 1270.995476, 10000.0, 87.29004524), (13686, 2020-02-02 00:00:00, 2020-06-01 00:00:00, 0.0, 7000.0, 100.0), (13687, 2020-02-02 00:00:00, 2020-07-08 00:00:00, 48.568785999999996, 1500.0, 96.76208093333334), (13688, 2020-02-02 00:00:00, 2020-07-19 00:00:00, 0.0, 4000.0, 100.0), (13689, 2020-02-02 00:00:00, 2020-05-02 00:00:00, 944.4812, 2500.0, 62.220752000000005), (13690, 2020-02-02 00:00:00, 2020-05-28 00:00:00, 0.0, 1800.0, 100.0), (13691, 2020-02-03 00:00:00, 2020-06-20 00:00:00, 0.0, 3000.0, 100.0), (13692, 2020-02-03 00:00:00, 2020-10-20 00:00:00, 4781.140751, 5500.0, 13.070168163636367), (13693, 2020-02-03 00:00:00, 2020-09-05 00:00:00, 935.7502949999999, 4500.0, 79.205549), (13694, 2020-02-03 00:00:00, 2020-08-04 00:00:00, 2318.4890370000003, 7500.0, 69.08681284), (13695, 2020-02-03 00:00:00, 2020-06-13 00:00:00, 1363.827125, 1500.0, 9.078191666666669), (13696, 2020-02-03 00:00:00, 2020-04-25 00:00:00, 0.0, 6000.0, 100.0), (13697, 2020-02-03 00:00:00, 2020-09-24 00:00:00, 1654.916972, 1800.0, 8.06016822222223), (13698, 2020-02-03 00:00:00, 2020-10-08 00:00:00, 182.209576, 8800.0, 97.92943663636363), (13699, 2020-02-03 00:00:00, 2020-05-25 00:00:00, 1058.554385, 1800.0, 41.19142305555556), (13701, 2020-02-03 00:00:00, 2020-11-02 00:00:00, 871.199257, 500.0, -74.23985139999999), (13702, 2020-02-03 00:00:00, 2020-07-25 00:00:00, 0.0, 2400.0, 100.0), (13703, 2020-02-03 00:00:00, 2020-08-08 00:00:00, 99.07990699999999, 5600.0, 98.23071594642857), (13704, 2020-02-03 00:00:00, 2020-05-02 00:00:00, 0.0, 16000.0, 100.0), (13705, 2020-02-03 00:00:00, 2020-08-04 00:00:00, 0.0, 5000.0, 100.0), (13706, 2020-02-03 00:00:00, 2020-06-13 00:00:00, 3866.409521, 10000.0, 61.33590479), (13707, 2020-02-03 00:00:00, 2020-06-24 00:00:00, 551.890714, 1800.0, 69.33940477777777), (13708, 2020-02-03 00:00:00, 2020-05-31 00:00:00, 661.0250219999999, 1500.0, 55.931665200000005), (13709, 2020-02-03 00:00:00, 2020-06-06 00:00:00, 842.2627060000001, 2300.0, 63.37988234782608), (13710, 2020-02-03 00:00:00, 2020-06-18 00:00:00, 0.0, 6000.0, 100.0), (13711, 2020-02-03 00:00:00, 2020-09-30 00:00:00, 0.0, 12000.0, 100.0), (13712, 2020-02-03 00:00:00, 2020-07-11 00:00:00, 2220.2250559999998, 2000.0, -11.011252799999994), (13713, 2020-02-03 00:00:00, 2020-08-22 00:00:00, 0.0, 5400.0, 100.0), (13714, 2020-02-03 00:00:00, 2020-08-24 00:00:00, 0.0, 12000.0, 100.0), (13715, 2020-02-03 00:00:00, 2020-09-06 00:00:00, 0.0, 4800.0, 100.0), (13717, 2020-02-03 00:00:00, 2020-06-15 00:00:00, 2592.2380129999997, 8000.0, 67.5970248375), (13718, 2020-02-03 00:00:00, 2020-07-08 00:00:00, 0.0, 8500.0, 100.0), (13719, 2020-02-03 00:00:00, 2020-09-21 00:00:00, 0.0, 6000.0, 100.0), (13720, 2020-02-03 00:00:00, 2020-08-22 00:00:00, 229.95085899999998, 3000.0, 92.33497136666666), (13721, 2020-02-03 00:00:00, 2020-05-29 00:00:00, 0.0, 3100.0, 100.0), (13722, 2020-02-03 00:00:00, 2020-06-24 00:00:00, 0.0, 7500.0, 100.0), (13723, 2020-02-03 00:00:00, 2020-09-05 00:00:00, 0.0, 1400.0, 100.0), (13724, 2020-02-03 00:00:00, 2020-06-26 00:00:00, 19.719684, 1200.0, 98.356693), ...]\n",
              "\n",
              "[5413 rows x 0 columns]"
            ]
          },
          "metadata": {},
          "execution_count": 89
        }
      ]
    },
    {
      "cell_type": "markdown",
      "metadata": {
        "id": "4zC2BhEckHAy"
      },
      "source": [
        "# Predictive Model"
      ]
    },
    {
      "cell_type": "markdown",
      "metadata": {
        "id": "AkIj15ozc7wv"
      },
      "source": [
        "***3.1 Build a predictive model for fraud.***\n",
        "\n",
        "Assign the dataframe to a new variable and drop the letter C from \"cust_id\" and drop unnecessary columns for make a predictive model and comprovate with different ways that the dataframe doesn't have errors"
      ]
    },
    {
      "cell_type": "code",
      "metadata": {
        "id": "1Tj-vR9UJoMR"
      },
      "source": [
        "clean_df=new_df"
      ],
      "execution_count": null,
      "outputs": []
    },
    {
      "cell_type": "code",
      "metadata": {
        "colab": {
          "base_uri": "https://localhost:8080/",
          "height": 444
        },
        "id": "HMDjdktl2whn",
        "outputId": "36d8b3f4-c265-44df-bff4-2edff05493c3"
      },
      "source": [
        "clean_df[\"cust_id\"]=clean_df[\"cust_id\"].str.replace(\"C\",\"\").astype(int)\n",
        "clean_df"
      ],
      "execution_count": null,
      "outputs": [
        {
          "output_type": "execute_result",
          "data": {
            "text/html": [
              "<div>\n",
              "<style scoped>\n",
              "    .dataframe tbody tr th:only-of-type {\n",
              "        vertical-align: middle;\n",
              "    }\n",
              "\n",
              "    .dataframe tbody tr th {\n",
              "        vertical-align: top;\n",
              "    }\n",
              "\n",
              "    .dataframe thead th {\n",
              "        text-align: right;\n",
              "    }\n",
              "</style>\n",
              "<table border=\"1\" class=\"dataframe\">\n",
              "  <thead>\n",
              "    <tr style=\"text-align: right;\">\n",
              "      <th></th>\n",
              "      <th>cust_id</th>\n",
              "      <th>activated_date</th>\n",
              "      <th>last_payment_date</th>\n",
              "      <th>balance</th>\n",
              "      <th>balance_frequency</th>\n",
              "      <th>purchases</th>\n",
              "      <th>oneoff_purchases</th>\n",
              "      <th>installments_purchases</th>\n",
              "      <th>cash_advance</th>\n",
              "      <th>purchases_frequency</th>\n",
              "      <th>oneoff_purchases_frequency</th>\n",
              "      <th>purchases_installments_frequency</th>\n",
              "      <th>cash_advance_frequency</th>\n",
              "      <th>cash_advance_trx</th>\n",
              "      <th>purchases_trx</th>\n",
              "      <th>credit_limit</th>\n",
              "      <th>payments</th>\n",
              "      <th>minimum_payments</th>\n",
              "      <th>prc_full_payment</th>\n",
              "      <th>tenure</th>\n",
              "      <th>fraud</th>\n",
              "      <th>Percentage</th>\n",
              "    </tr>\n",
              "  </thead>\n",
              "  <tbody>\n",
              "    <tr>\n",
              "      <th>1</th>\n",
              "      <td>10001</td>\n",
              "      <td>2019-10-06</td>\n",
              "      <td>2020-09-09</td>\n",
              "      <td>40.900749</td>\n",
              "      <td>0.818182</td>\n",
              "      <td>95.40</td>\n",
              "      <td>0.00</td>\n",
              "      <td>95.40</td>\n",
              "      <td>0.000000</td>\n",
              "      <td>0.166667</td>\n",
              "      <td>0.000000</td>\n",
              "      <td>0.083333</td>\n",
              "      <td>0.000000</td>\n",
              "      <td>0</td>\n",
              "      <td>2</td>\n",
              "      <td>1000.0</td>\n",
              "      <td>201.802084</td>\n",
              "      <td>139.509787</td>\n",
              "      <td>0.000000</td>\n",
              "      <td>12</td>\n",
              "      <td>0</td>\n",
              "      <td>100.000000</td>\n",
              "    </tr>\n",
              "    <tr>\n",
              "      <th>2</th>\n",
              "      <td>10002</td>\n",
              "      <td>2019-10-06</td>\n",
              "      <td>2020-07-04</td>\n",
              "      <td>3202.467416</td>\n",
              "      <td>0.909091</td>\n",
              "      <td>0.00</td>\n",
              "      <td>0.00</td>\n",
              "      <td>0.00</td>\n",
              "      <td>6442.945483</td>\n",
              "      <td>0.000000</td>\n",
              "      <td>0.000000</td>\n",
              "      <td>0.000000</td>\n",
              "      <td>0.250000</td>\n",
              "      <td>4</td>\n",
              "      <td>0</td>\n",
              "      <td>7000.0</td>\n",
              "      <td>4103.032597</td>\n",
              "      <td>1072.340217</td>\n",
              "      <td>0.222222</td>\n",
              "      <td>12</td>\n",
              "      <td>0</td>\n",
              "      <td>7.957922</td>\n",
              "    </tr>\n",
              "    <tr>\n",
              "      <th>3</th>\n",
              "      <td>10003</td>\n",
              "      <td>2019-10-06</td>\n",
              "      <td>2020-09-17</td>\n",
              "      <td>2495.148862</td>\n",
              "      <td>1.000000</td>\n",
              "      <td>773.17</td>\n",
              "      <td>773.17</td>\n",
              "      <td>0.00</td>\n",
              "      <td>0.000000</td>\n",
              "      <td>1.000000</td>\n",
              "      <td>1.000000</td>\n",
              "      <td>0.000000</td>\n",
              "      <td>0.000000</td>\n",
              "      <td>0</td>\n",
              "      <td>12</td>\n",
              "      <td>7500.0</td>\n",
              "      <td>622.066742</td>\n",
              "      <td>627.284787</td>\n",
              "      <td>0.000000</td>\n",
              "      <td>12</td>\n",
              "      <td>0</td>\n",
              "      <td>100.000000</td>\n",
              "    </tr>\n",
              "    <tr>\n",
              "      <th>4</th>\n",
              "      <td>10004</td>\n",
              "      <td>2019-10-06</td>\n",
              "      <td>2020-08-24</td>\n",
              "      <td>1666.670542</td>\n",
              "      <td>0.636364</td>\n",
              "      <td>1499.00</td>\n",
              "      <td>1499.00</td>\n",
              "      <td>0.00</td>\n",
              "      <td>205.788017</td>\n",
              "      <td>0.083333</td>\n",
              "      <td>0.083333</td>\n",
              "      <td>0.000000</td>\n",
              "      <td>0.083333</td>\n",
              "      <td>1</td>\n",
              "      <td>1</td>\n",
              "      <td>7500.0</td>\n",
              "      <td>0.000000</td>\n",
              "      <td>0.000000</td>\n",
              "      <td>0.000000</td>\n",
              "      <td>12</td>\n",
              "      <td>0</td>\n",
              "      <td>97.256160</td>\n",
              "    </tr>\n",
              "    <tr>\n",
              "      <th>5</th>\n",
              "      <td>10005</td>\n",
              "      <td>2019-10-06</td>\n",
              "      <td>2020-10-20</td>\n",
              "      <td>817.714335</td>\n",
              "      <td>1.000000</td>\n",
              "      <td>16.00</td>\n",
              "      <td>16.00</td>\n",
              "      <td>0.00</td>\n",
              "      <td>0.000000</td>\n",
              "      <td>0.083333</td>\n",
              "      <td>0.083333</td>\n",
              "      <td>0.000000</td>\n",
              "      <td>0.000000</td>\n",
              "      <td>0</td>\n",
              "      <td>1</td>\n",
              "      <td>1200.0</td>\n",
              "      <td>678.334763</td>\n",
              "      <td>244.791237</td>\n",
              "      <td>0.000000</td>\n",
              "      <td>12</td>\n",
              "      <td>0</td>\n",
              "      <td>100.000000</td>\n",
              "    </tr>\n",
              "    <tr>\n",
              "      <th>...</th>\n",
              "      <td>...</td>\n",
              "      <td>...</td>\n",
              "      <td>...</td>\n",
              "      <td>...</td>\n",
              "      <td>...</td>\n",
              "      <td>...</td>\n",
              "      <td>...</td>\n",
              "      <td>...</td>\n",
              "      <td>...</td>\n",
              "      <td>...</td>\n",
              "      <td>...</td>\n",
              "      <td>...</td>\n",
              "      <td>...</td>\n",
              "      <td>...</td>\n",
              "      <td>...</td>\n",
              "      <td>...</td>\n",
              "      <td>...</td>\n",
              "      <td>...</td>\n",
              "      <td>...</td>\n",
              "      <td>...</td>\n",
              "      <td>...</td>\n",
              "      <td>...</td>\n",
              "    </tr>\n",
              "    <tr>\n",
              "      <th>8946</th>\n",
              "      <td>19186</td>\n",
              "      <td>2020-07-31</td>\n",
              "      <td>2020-11-03</td>\n",
              "      <td>28.493517</td>\n",
              "      <td>1.000000</td>\n",
              "      <td>291.12</td>\n",
              "      <td>0.00</td>\n",
              "      <td>291.12</td>\n",
              "      <td>0.000000</td>\n",
              "      <td>1.000000</td>\n",
              "      <td>0.000000</td>\n",
              "      <td>0.833333</td>\n",
              "      <td>0.000000</td>\n",
              "      <td>0</td>\n",
              "      <td>6</td>\n",
              "      <td>1000.0</td>\n",
              "      <td>325.594462</td>\n",
              "      <td>48.886365</td>\n",
              "      <td>0.500000</td>\n",
              "      <td>6</td>\n",
              "      <td>0</td>\n",
              "      <td>100.000000</td>\n",
              "    </tr>\n",
              "    <tr>\n",
              "      <th>8947</th>\n",
              "      <td>19187</td>\n",
              "      <td>2020-07-31</td>\n",
              "      <td>2020-09-06</td>\n",
              "      <td>19.183215</td>\n",
              "      <td>1.000000</td>\n",
              "      <td>300.00</td>\n",
              "      <td>0.00</td>\n",
              "      <td>300.00</td>\n",
              "      <td>0.000000</td>\n",
              "      <td>1.000000</td>\n",
              "      <td>0.000000</td>\n",
              "      <td>0.833333</td>\n",
              "      <td>0.000000</td>\n",
              "      <td>0</td>\n",
              "      <td>6</td>\n",
              "      <td>1000.0</td>\n",
              "      <td>275.861322</td>\n",
              "      <td>0.000000</td>\n",
              "      <td>0.000000</td>\n",
              "      <td>6</td>\n",
              "      <td>0</td>\n",
              "      <td>100.000000</td>\n",
              "    </tr>\n",
              "    <tr>\n",
              "      <th>8948</th>\n",
              "      <td>19188</td>\n",
              "      <td>2020-07-31</td>\n",
              "      <td>2020-06-03</td>\n",
              "      <td>23.398673</td>\n",
              "      <td>0.833333</td>\n",
              "      <td>144.40</td>\n",
              "      <td>0.00</td>\n",
              "      <td>144.40</td>\n",
              "      <td>0.000000</td>\n",
              "      <td>0.833333</td>\n",
              "      <td>0.000000</td>\n",
              "      <td>0.666667</td>\n",
              "      <td>0.000000</td>\n",
              "      <td>0</td>\n",
              "      <td>5</td>\n",
              "      <td>1000.0</td>\n",
              "      <td>81.270775</td>\n",
              "      <td>82.418369</td>\n",
              "      <td>0.250000</td>\n",
              "      <td>6</td>\n",
              "      <td>0</td>\n",
              "      <td>100.000000</td>\n",
              "    </tr>\n",
              "    <tr>\n",
              "      <th>8949</th>\n",
              "      <td>19189</td>\n",
              "      <td>2020-07-31</td>\n",
              "      <td>2020-07-19</td>\n",
              "      <td>13.457564</td>\n",
              "      <td>0.833333</td>\n",
              "      <td>0.00</td>\n",
              "      <td>0.00</td>\n",
              "      <td>0.00</td>\n",
              "      <td>36.558778</td>\n",
              "      <td>0.000000</td>\n",
              "      <td>0.000000</td>\n",
              "      <td>0.000000</td>\n",
              "      <td>0.166667</td>\n",
              "      <td>2</td>\n",
              "      <td>0</td>\n",
              "      <td>500.0</td>\n",
              "      <td>52.549959</td>\n",
              "      <td>55.755628</td>\n",
              "      <td>0.250000</td>\n",
              "      <td>6</td>\n",
              "      <td>0</td>\n",
              "      <td>92.688244</td>\n",
              "    </tr>\n",
              "    <tr>\n",
              "      <th>8950</th>\n",
              "      <td>19190</td>\n",
              "      <td>2020-07-31</td>\n",
              "      <td>2020-10-14</td>\n",
              "      <td>372.708075</td>\n",
              "      <td>0.666667</td>\n",
              "      <td>1093.25</td>\n",
              "      <td>1093.25</td>\n",
              "      <td>0.00</td>\n",
              "      <td>127.040008</td>\n",
              "      <td>0.666667</td>\n",
              "      <td>0.666667</td>\n",
              "      <td>0.000000</td>\n",
              "      <td>0.333333</td>\n",
              "      <td>2</td>\n",
              "      <td>23</td>\n",
              "      <td>1200.0</td>\n",
              "      <td>63.165404</td>\n",
              "      <td>88.288956</td>\n",
              "      <td>0.000000</td>\n",
              "      <td>6</td>\n",
              "      <td>0</td>\n",
              "      <td>89.413333</td>\n",
              "    </tr>\n",
              "  </tbody>\n",
              "</table>\n",
              "<p>8950 rows × 22 columns</p>\n",
              "</div>"
            ],
            "text/plain": [
              "      cust_id activated_date last_payment_date  ...  tenure  fraud  Percentage\n",
              "1       10001     2019-10-06        2020-09-09  ...      12      0  100.000000\n",
              "2       10002     2019-10-06        2020-07-04  ...      12      0    7.957922\n",
              "3       10003     2019-10-06        2020-09-17  ...      12      0  100.000000\n",
              "4       10004     2019-10-06        2020-08-24  ...      12      0   97.256160\n",
              "5       10005     2019-10-06        2020-10-20  ...      12      0  100.000000\n",
              "...       ...            ...               ...  ...     ...    ...         ...\n",
              "8946    19186     2020-07-31        2020-11-03  ...       6      0  100.000000\n",
              "8947    19187     2020-07-31        2020-09-06  ...       6      0  100.000000\n",
              "8948    19188     2020-07-31        2020-06-03  ...       6      0  100.000000\n",
              "8949    19189     2020-07-31        2020-07-19  ...       6      0   92.688244\n",
              "8950    19190     2020-07-31        2020-10-14  ...       6      0   89.413333\n",
              "\n",
              "[8950 rows x 22 columns]"
            ]
          },
          "metadata": {},
          "execution_count": 91
        }
      ]
    },
    {
      "cell_type": "code",
      "metadata": {
        "id": "ULBYTNT-5knF"
      },
      "source": [
        "#remove unnecessary columns\n",
        "clean_df=clean_df.drop(columns=[\"activated_date\",\"last_payment_date\",\"cust_id\",\"Percentage\"])"
      ],
      "execution_count": null,
      "outputs": []
    },
    {
      "cell_type": "code",
      "metadata": {
        "id": "5m-zDM7yhPGY"
      },
      "source": [
        "#Clean null information from dataset\n",
        "clean_df =clean_df[~clean_df.isin([np.nan, np.inf, -np.inf]).any(1)]"
      ],
      "execution_count": null,
      "outputs": []
    },
    {
      "cell_type": "code",
      "metadata": {
        "colab": {
          "base_uri": "https://localhost:8080/"
        },
        "id": "gVIMcOyliH_4",
        "outputId": "b42996cc-824f-47c5-b1fe-142b61ba263f"
      },
      "source": [
        "clean_df.shape[0]"
      ],
      "execution_count": null,
      "outputs": [
        {
          "output_type": "execute_result",
          "data": {
            "text/plain": [
              "8950"
            ]
          },
          "metadata": {},
          "execution_count": 94
        }
      ]
    },
    {
      "cell_type": "code",
      "metadata": {
        "colab": {
          "base_uri": "https://localhost:8080/",
          "height": 226
        },
        "id": "enkafAU2M3F_",
        "outputId": "e100af50-b327-4170-8a30-552b328e9674"
      },
      "source": [
        "clean_df.head()"
      ],
      "execution_count": null,
      "outputs": [
        {
          "output_type": "execute_result",
          "data": {
            "text/html": [
              "<div>\n",
              "<style scoped>\n",
              "    .dataframe tbody tr th:only-of-type {\n",
              "        vertical-align: middle;\n",
              "    }\n",
              "\n",
              "    .dataframe tbody tr th {\n",
              "        vertical-align: top;\n",
              "    }\n",
              "\n",
              "    .dataframe thead th {\n",
              "        text-align: right;\n",
              "    }\n",
              "</style>\n",
              "<table border=\"1\" class=\"dataframe\">\n",
              "  <thead>\n",
              "    <tr style=\"text-align: right;\">\n",
              "      <th></th>\n",
              "      <th>balance</th>\n",
              "      <th>balance_frequency</th>\n",
              "      <th>purchases</th>\n",
              "      <th>oneoff_purchases</th>\n",
              "      <th>installments_purchases</th>\n",
              "      <th>cash_advance</th>\n",
              "      <th>purchases_frequency</th>\n",
              "      <th>oneoff_purchases_frequency</th>\n",
              "      <th>purchases_installments_frequency</th>\n",
              "      <th>cash_advance_frequency</th>\n",
              "      <th>cash_advance_trx</th>\n",
              "      <th>purchases_trx</th>\n",
              "      <th>credit_limit</th>\n",
              "      <th>payments</th>\n",
              "      <th>minimum_payments</th>\n",
              "      <th>prc_full_payment</th>\n",
              "      <th>tenure</th>\n",
              "      <th>fraud</th>\n",
              "    </tr>\n",
              "  </thead>\n",
              "  <tbody>\n",
              "    <tr>\n",
              "      <th>1</th>\n",
              "      <td>40.900749</td>\n",
              "      <td>0.818182</td>\n",
              "      <td>95.40</td>\n",
              "      <td>0.00</td>\n",
              "      <td>95.4</td>\n",
              "      <td>0.000000</td>\n",
              "      <td>0.166667</td>\n",
              "      <td>0.000000</td>\n",
              "      <td>0.083333</td>\n",
              "      <td>0.000000</td>\n",
              "      <td>0</td>\n",
              "      <td>2</td>\n",
              "      <td>1000.0</td>\n",
              "      <td>201.802084</td>\n",
              "      <td>139.509787</td>\n",
              "      <td>0.000000</td>\n",
              "      <td>12</td>\n",
              "      <td>0</td>\n",
              "    </tr>\n",
              "    <tr>\n",
              "      <th>2</th>\n",
              "      <td>3202.467416</td>\n",
              "      <td>0.909091</td>\n",
              "      <td>0.00</td>\n",
              "      <td>0.00</td>\n",
              "      <td>0.0</td>\n",
              "      <td>6442.945483</td>\n",
              "      <td>0.000000</td>\n",
              "      <td>0.000000</td>\n",
              "      <td>0.000000</td>\n",
              "      <td>0.250000</td>\n",
              "      <td>4</td>\n",
              "      <td>0</td>\n",
              "      <td>7000.0</td>\n",
              "      <td>4103.032597</td>\n",
              "      <td>1072.340217</td>\n",
              "      <td>0.222222</td>\n",
              "      <td>12</td>\n",
              "      <td>0</td>\n",
              "    </tr>\n",
              "    <tr>\n",
              "      <th>3</th>\n",
              "      <td>2495.148862</td>\n",
              "      <td>1.000000</td>\n",
              "      <td>773.17</td>\n",
              "      <td>773.17</td>\n",
              "      <td>0.0</td>\n",
              "      <td>0.000000</td>\n",
              "      <td>1.000000</td>\n",
              "      <td>1.000000</td>\n",
              "      <td>0.000000</td>\n",
              "      <td>0.000000</td>\n",
              "      <td>0</td>\n",
              "      <td>12</td>\n",
              "      <td>7500.0</td>\n",
              "      <td>622.066742</td>\n",
              "      <td>627.284787</td>\n",
              "      <td>0.000000</td>\n",
              "      <td>12</td>\n",
              "      <td>0</td>\n",
              "    </tr>\n",
              "    <tr>\n",
              "      <th>4</th>\n",
              "      <td>1666.670542</td>\n",
              "      <td>0.636364</td>\n",
              "      <td>1499.00</td>\n",
              "      <td>1499.00</td>\n",
              "      <td>0.0</td>\n",
              "      <td>205.788017</td>\n",
              "      <td>0.083333</td>\n",
              "      <td>0.083333</td>\n",
              "      <td>0.000000</td>\n",
              "      <td>0.083333</td>\n",
              "      <td>1</td>\n",
              "      <td>1</td>\n",
              "      <td>7500.0</td>\n",
              "      <td>0.000000</td>\n",
              "      <td>0.000000</td>\n",
              "      <td>0.000000</td>\n",
              "      <td>12</td>\n",
              "      <td>0</td>\n",
              "    </tr>\n",
              "    <tr>\n",
              "      <th>5</th>\n",
              "      <td>817.714335</td>\n",
              "      <td>1.000000</td>\n",
              "      <td>16.00</td>\n",
              "      <td>16.00</td>\n",
              "      <td>0.0</td>\n",
              "      <td>0.000000</td>\n",
              "      <td>0.083333</td>\n",
              "      <td>0.083333</td>\n",
              "      <td>0.000000</td>\n",
              "      <td>0.000000</td>\n",
              "      <td>0</td>\n",
              "      <td>1</td>\n",
              "      <td>1200.0</td>\n",
              "      <td>678.334763</td>\n",
              "      <td>244.791237</td>\n",
              "      <td>0.000000</td>\n",
              "      <td>12</td>\n",
              "      <td>0</td>\n",
              "    </tr>\n",
              "  </tbody>\n",
              "</table>\n",
              "</div>"
            ],
            "text/plain": [
              "       balance  balance_frequency  purchases  ...  prc_full_payment  tenure  fraud\n",
              "1    40.900749           0.818182      95.40  ...          0.000000      12      0\n",
              "2  3202.467416           0.909091       0.00  ...          0.222222      12      0\n",
              "3  2495.148862           1.000000     773.17  ...          0.000000      12      0\n",
              "4  1666.670542           0.636364    1499.00  ...          0.000000      12      0\n",
              "5   817.714335           1.000000      16.00  ...          0.000000      12      0\n",
              "\n",
              "[5 rows x 18 columns]"
            ]
          },
          "metadata": {},
          "execution_count": 95
        }
      ]
    },
    {
      "cell_type": "code",
      "metadata": {
        "colab": {
          "base_uri": "https://localhost:8080/"
        },
        "id": "3Vtv5a1DgrDp",
        "outputId": "953a7877-7b6a-4986-868a-ae673f0ff4f2"
      },
      "source": [
        "clean_df.isnull().any()"
      ],
      "execution_count": null,
      "outputs": [
        {
          "output_type": "execute_result",
          "data": {
            "text/plain": [
              "balance                             False\n",
              "balance_frequency                   False\n",
              "purchases                           False\n",
              "oneoff_purchases                    False\n",
              "installments_purchases              False\n",
              "cash_advance                        False\n",
              "purchases_frequency                 False\n",
              "oneoff_purchases_frequency          False\n",
              "purchases_installments_frequency    False\n",
              "cash_advance_frequency              False\n",
              "cash_advance_trx                    False\n",
              "purchases_trx                       False\n",
              "credit_limit                        False\n",
              "payments                            False\n",
              "minimum_payments                    False\n",
              "prc_full_payment                    False\n",
              "tenure                              False\n",
              "fraud                               False\n",
              "dtype: bool"
            ]
          },
          "metadata": {},
          "execution_count": 96
        }
      ]
    },
    {
      "cell_type": "code",
      "metadata": {
        "colab": {
          "base_uri": "https://localhost:8080/"
        },
        "id": "8eZrXuJ6KOAv",
        "outputId": "0f931859-ffcf-4335-fbe7-77aeb73d11b5"
      },
      "source": [
        "clean_df.isna().sum(axis=0)"
      ],
      "execution_count": null,
      "outputs": [
        {
          "output_type": "execute_result",
          "data": {
            "text/plain": [
              "balance                             0\n",
              "balance_frequency                   0\n",
              "purchases                           0\n",
              "oneoff_purchases                    0\n",
              "installments_purchases              0\n",
              "cash_advance                        0\n",
              "purchases_frequency                 0\n",
              "oneoff_purchases_frequency          0\n",
              "purchases_installments_frequency    0\n",
              "cash_advance_frequency              0\n",
              "cash_advance_trx                    0\n",
              "purchases_trx                       0\n",
              "credit_limit                        0\n",
              "payments                            0\n",
              "minimum_payments                    0\n",
              "prc_full_payment                    0\n",
              "tenure                              0\n",
              "fraud                               0\n",
              "dtype: int64"
            ]
          },
          "metadata": {},
          "execution_count": 97
        }
      ]
    },
    {
      "cell_type": "code",
      "metadata": {
        "colab": {
          "base_uri": "https://localhost:8080/"
        },
        "id": "g0wrSUmifaaT",
        "outputId": "eca72163-01b3-481e-a013-dd64ae9062d2"
      },
      "source": [
        "clean_df.isnull().sum().sort_values(ascending=False)/len(clean_df)"
      ],
      "execution_count": null,
      "outputs": [
        {
          "output_type": "execute_result",
          "data": {
            "text/plain": [
              "fraud                               0.0\n",
              "tenure                              0.0\n",
              "balance_frequency                   0.0\n",
              "purchases                           0.0\n",
              "oneoff_purchases                    0.0\n",
              "installments_purchases              0.0\n",
              "cash_advance                        0.0\n",
              "purchases_frequency                 0.0\n",
              "oneoff_purchases_frequency          0.0\n",
              "purchases_installments_frequency    0.0\n",
              "cash_advance_frequency              0.0\n",
              "cash_advance_trx                    0.0\n",
              "purchases_trx                       0.0\n",
              "credit_limit                        0.0\n",
              "payments                            0.0\n",
              "minimum_payments                    0.0\n",
              "prc_full_payment                    0.0\n",
              "balance                             0.0\n",
              "dtype: float64"
            ]
          },
          "metadata": {},
          "execution_count": 98
        }
      ]
    },
    {
      "cell_type": "markdown",
      "metadata": {
        "id": "LyH2XJII2t-i"
      },
      "source": [
        "Now We are sure that there aren't any type of mistake or NaNs"
      ]
    },
    {
      "cell_type": "markdown",
      "metadata": {
        "id": "ToTn_PDMgmfw"
      },
      "source": [
        "###Supervised Logistic Regression"
      ]
    },
    {
      "cell_type": "code",
      "metadata": {
        "id": "8DRDXGqh16vW"
      },
      "source": [
        "X=clean_df.drop(columns=['fraud'])\n",
        "y=clean_df['fraud']"
      ],
      "execution_count": null,
      "outputs": []
    },
    {
      "cell_type": "code",
      "metadata": {
        "id": "WZC960NnjwLy"
      },
      "source": [
        "#Import libraries\n",
        "from sklearn.linear_model import LogisticRegression\n",
        "from sklearn.model_selection import train_test_split"
      ],
      "execution_count": null,
      "outputs": []
    },
    {
      "cell_type": "code",
      "metadata": {
        "id": "KBC0kpIt2OHu"
      },
      "source": [
        "#assign variables of test and train\n",
        "X_train, X_test, y_train, y_test = train_test_split(X, y, test_size=0.3)"
      ],
      "execution_count": null,
      "outputs": []
    },
    {
      "cell_type": "code",
      "metadata": {
        "id": "M9UlnpYj2Qdu"
      },
      "source": [
        "#assign the model with max 2000 possible iteration\n",
        "logreg=LogisticRegression(max_iter=2000)"
      ],
      "execution_count": null,
      "outputs": []
    },
    {
      "cell_type": "markdown",
      "metadata": {
        "id": "yUriYcjj57zj"
      },
      "source": [
        "Train the model"
      ]
    },
    {
      "cell_type": "code",
      "metadata": {
        "colab": {
          "base_uri": "https://localhost:8080/"
        },
        "id": "vTIPkNpv3Fyf",
        "outputId": "7c92f98c-6f50-4efc-af1d-f2057fb1652c"
      },
      "source": [
        "logreg.fit(X_train, y_train)"
      ],
      "execution_count": null,
      "outputs": [
        {
          "output_type": "execute_result",
          "data": {
            "text/plain": [
              "LogisticRegression(max_iter=2000)"
            ]
          },
          "metadata": {},
          "execution_count": 103
        }
      ]
    },
    {
      "cell_type": "code",
      "metadata": {
        "colab": {
          "base_uri": "https://localhost:8080/"
        },
        "id": "iIMRjwIQ7VBI",
        "outputId": "dfdc1cd9-f94c-41af-d054-4890f15345c3"
      },
      "source": [
        "y_pred = logreg.predict(X_test)\n",
        "y_pred"
      ],
      "execution_count": null,
      "outputs": [
        {
          "output_type": "execute_result",
          "data": {
            "text/plain": [
              "array([0, 0, 0, ..., 0, 0, 0])"
            ]
          },
          "metadata": {},
          "execution_count": 104
        }
      ]
    },
    {
      "cell_type": "markdown",
      "metadata": {
        "id": "92RZRq5n6W1R"
      },
      "source": [
        "The model have a currency of:"
      ]
    },
    {
      "cell_type": "code",
      "metadata": {
        "colab": {
          "base_uri": "https://localhost:8080/"
        },
        "id": "2onKKo-2MkF5",
        "outputId": "a2941fe4-844e-4572-a482-fc967770f2c8"
      },
      "source": [
        "logreg.score(X_test, y_test)"
      ],
      "execution_count": null,
      "outputs": [
        {
          "output_type": "execute_result",
          "data": {
            "text/plain": [
              "0.9970204841713222"
            ]
          },
          "metadata": {},
          "execution_count": 105
        }
      ]
    },
    {
      "cell_type": "markdown",
      "metadata": {
        "id": "KeN03o5n61Oo"
      },
      "source": [
        "Import libraries for make a confusion matrix"
      ]
    },
    {
      "cell_type": "code",
      "metadata": {
        "id": "CH96tXox2kSm"
      },
      "source": [
        "from sklearn import metrics"
      ],
      "execution_count": null,
      "outputs": []
    },
    {
      "cell_type": "markdown",
      "metadata": {
        "id": "Lxpddy9m7HOD"
      },
      "source": [
        "Assign and call the confusion matrix for create a heatmap that show the results"
      ]
    },
    {
      "cell_type": "code",
      "metadata": {
        "colab": {
          "base_uri": "https://localhost:8080/"
        },
        "id": "bxm7AoJ92qIM",
        "outputId": "1f46d1f7-e11c-4f73-bbe7-dbcc5664f626"
      },
      "source": [
        "cnf_matrix = metrics.confusion_matrix(y_test, y_pred)\n",
        "\n",
        "cnf_matrix"
      ],
      "execution_count": null,
      "outputs": [
        {
          "output_type": "execute_result",
          "data": {
            "text/plain": [
              "array([[2661,    1],\n",
              "       [   7,   16]])"
            ]
          },
          "metadata": {},
          "execution_count": 107
        }
      ]
    },
    {
      "cell_type": "code",
      "metadata": {
        "colab": {
          "base_uri": "https://localhost:8080/",
          "height": 453
        },
        "id": "5RlYfAUc2xX8",
        "outputId": "1defd8bc-f5be-42df-f549-c2b37db6861f"
      },
      "source": [
        "class_names=[0,1] # name  of classes\n",
        "fig, ax = plt.subplots(figsize=(6, 6))\n",
        "tick_marks = np.arange(len(class_names))\n",
        "plt.xticks(tick_marks, class_names)\n",
        "plt.yticks(tick_marks, class_names)\n",
        "# create heatmap\n",
        "sns.heatmap(pd.DataFrame(cnf_matrix), annot=True, cmap=\"Blues\" ,fmt='g', cbar=False, annot_kws={\"size\": 20})\n",
        "ax.xaxis.set_label_position(\"top\")\n",
        "plt.tight_layout()\n",
        "plt.ylabel('Realidad', fontsize=15, y=0.5)\n",
        "plt.xlabel('Matriz de confusión', fontsize=15);"
      ],
      "execution_count": null,
      "outputs": [
        {
          "output_type": "display_data",
          "data": {
            "image/png": "[encoded data removed]",
            "text/plain": [
              "<Figure size 432x432 with 1 Axes>"
            ]
          },
          "metadata": {}
        }
      ]
    },
    {
      "cell_type": "markdown",
      "metadata": {
        "id": "QyJzA9ZyhLKA"
      },
      "source": [
        "Prediction from categorical variable: fraud\n",
        "\n",
        "True Positive\n",
        "\n",
        "There are 2664 customers =0 and the model predict that are 0\n",
        "\n",
        "True Negative\n",
        "\n",
        "There are 13 customers =1 and the model predict that are 1\n",
        "\n",
        "False Positive\n",
        "\n",
        "There are 8  customers =1 and the model predict that are 0\n",
        "\n",
        "False Negative\n",
        "\n",
        "There are 0 customers =0 and the model predict that are 1"
      ]
    },
    {
      "cell_type": "code",
      "metadata": {
        "colab": {
          "base_uri": "https://localhost:8080/"
        },
        "id": "ahhBI7q13Eck",
        "outputId": "0db1bb49-c870-4b7e-a6ee-c32aaef051ad"
      },
      "source": [
        "tn, fp, fn, tp = cnf_matrix.ravel()\n",
        "\n",
        "print(\"precision:\",metrics.precision_score(y_test, y_pred))\n",
        "print(\"accuracy:\",metrics.accuracy_score(y_test, y_pred))\n",
        "print(\"sensitivity:\",metrics.recall_score(y_test, y_pred))\n",
        "print(\"specificity:\", tn / (tn + fp))"
      ],
      "execution_count": null,
      "outputs": [
        {
          "output_type": "stream",
          "name": "stdout",
          "text": [
            "precision: 0.9411764705882353\n",
            "accuracy: 0.9970204841713222\n",
            "sensitivity: 0.6956521739130435\n",
            "specificity: 0.9996243425995492\n"
          ]
        }
      ]
    },
    {
      "cell_type": "markdown",
      "metadata": {
        "id": "vwW4JX9FBB21"
      },
      "source": [
        "3.2 What explanatory variable was the most powerful predictor for fraud?"
      ]
    },
    {
      "cell_type": "code",
      "metadata": {
        "id": "Gs9S9xG5A8i7"
      },
      "source": [
        "from sklearn.datasets import make_classification\n",
        "from sklearn.linear_model import LogisticRegression\n",
        "from matplotlib import pyplot"
      ],
      "execution_count": null,
      "outputs": []
    },
    {
      "cell_type": "code",
      "metadata": {
        "colab": {
          "base_uri": "https://localhost:8080/",
          "height": 458
        },
        "id": "i_Lmp5HUBfID",
        "outputId": "053f2591-ff67-4b0a-958b-fa64cce8b587"
      },
      "source": [
        "X, y = make_classification(n_samples=1000, n_features=10, n_informative=5, n_redundant=5, random_state=1)\n",
        "# define the model\n",
        "model = LogisticRegression()\n",
        "# fit the model\n",
        "model.fit(X, y)\n",
        "# get importance\n",
        "importance = model.coef_[0]\n",
        "# summarize feature importance\n",
        "for i,v in enumerate(importance):\n",
        "\tprint('Feature: %0d, Score: %.5f' % (i,v))\n",
        "# plot feature importance\n",
        "pyplot.bar([x for x in range(len(importance))], importance)\n",
        "pyplot.title(\"Histogram of coefficient of logistic regression by feature importance\")\n",
        "pyplot.show()"
      ],
      "execution_count": null,
      "outputs": [
        {
          "output_type": "stream",
          "name": "stdout",
          "text": [
            "Feature: 0, Score: 0.16320\n",
            "Feature: 1, Score: -0.64301\n",
            "Feature: 2, Score: 0.48497\n",
            "Feature: 3, Score: -0.46190\n",
            "Feature: 4, Score: 0.18432\n",
            "Feature: 5, Score: -0.11978\n",
            "Feature: 6, Score: -0.40602\n",
            "Feature: 7, Score: 0.03772\n",
            "Feature: 8, Score: -0.51785\n",
            "Feature: 9, Score: 0.26540\n"
          ]
        },
        {
          "output_type": "display_data",
          "data": {
            "image/png": "[encoded data removed]",
            "text/plain": [
              "<Figure size 432x288 with 1 Axes>"
            ]
          },
          "metadata": {}
        }
      ]
    },
    {
      "cell_type": "markdown",
      "metadata": {
        "id": "eDYBGd65KmDn"
      },
      "source": [
        "The most important feature for predict the fraud was the feature 1"
      ]
    },
    {
      "cell_type": "markdown",
      "metadata": {
        "id": "3TR-OjqbLOnD"
      },
      "source": [
        "### Conclusion\n",
        "I Used a logistic regresion for make a model that going to predict the fraud in a dataset with a catgoric variable where I show to the model this values that represent: 1=True, 0=False and I began with the fit for the model where I put the 30% of the data for test and 70% for training after I used a confusion matrix for visualize the result of model.\n"
      ]
    }
  ]
}